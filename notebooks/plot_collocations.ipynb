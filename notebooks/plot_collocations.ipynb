{
 "cells": [
  {
   "cell_type": "code",
   "execution_count": 1,
   "metadata": {
    "collapsed": true
   },
   "outputs": [],
   "source": [
    "%load_ext autoreload\n",
    "%autoreload 2\n",
    "%matplotlib inline\n",
    "import matplotlib.pyplot as plt\n",
    "import numpy as np\n",
    "from netCDF4 import Dataset\n",
    "\n",
    "import sys\n",
    "sys.path.append(\"..\")\n",
    "\n",
    "plt.style.use(\"~/.config/matplotlib/notebook\")"
   ]
  },
  {
   "cell_type": "markdown",
   "metadata": {},
   "source": [
    "## Modis granule"
   ]
  },
  {
   "cell_type": "code",
   "execution_count": 2,
   "metadata": {
    "collapsed": true
   },
   "outputs": [],
   "source": [
    "from cloud_colocations.formats import ModisMyd03, ModisMyd021km\n",
    "\n",
    "modis_granule     = ModisMyd021km(\"../cache/MYD021KM.A2009002.0715.006.2012058150852.hdf\")\n",
    "modis_geo_granule = ModisMyd03(\"../cache/MYD03.A2009002.0715.006.2012054204904.hdf\")"
   ]
  },
  {
   "cell_type": "code",
   "execution_count": 3,
   "metadata": {
    "collapsed": true
   },
   "outputs": [],
   "source": [
    "lon_lims = [85, 95]\n",
    "lat_lims = [40, 50]"
   ]
  },
  {
   "cell_type": "code",
   "execution_count": 4,
   "metadata": {},
   "outputs": [
    {
     "ename": "ImportError",
     "evalue": "libmkl_intel_lp64.so: cannot open shared object file: No such file or directory",
     "output_type": "error",
     "traceback": [
      "\u001b[0;31m---------------------------------------------------------------------------\u001b[0m",
      "\u001b[0;31mImportError\u001b[0m                               Traceback (most recent call last)",
      "\u001b[0;32m<ipython-input-4-b2b28d07fee1>\u001b[0m in \u001b[0;36m<module>\u001b[0;34m()\u001b[0m\n\u001b[0;32m----> 1\u001b[0;31m \u001b[0;32mfrom\u001b[0m \u001b[0mcloud_colocations\u001b[0m\u001b[0;34m.\u001b[0m\u001b[0mplots\u001b[0m   \u001b[0;32mimport\u001b[0m \u001b[0mplot_modis_granule_composite\u001b[0m\u001b[0;34m,\u001b[0m \u001b[0mplot_scalar_field\u001b[0m\u001b[0;34m\u001b[0m\u001b[0m\n\u001b[0m\u001b[1;32m      2\u001b[0m \u001b[0;32mfrom\u001b[0m \u001b[0mmatplotlib\u001b[0m\u001b[0;34m.\u001b[0m\u001b[0mgridspec\u001b[0m \u001b[0;32mimport\u001b[0m \u001b[0mGridSpec\u001b[0m\u001b[0;34m\u001b[0m\u001b[0m\n\u001b[1;32m      3\u001b[0m \u001b[0mf\u001b[0m \u001b[0;34m=\u001b[0m \u001b[0mplt\u001b[0m\u001b[0;34m.\u001b[0m\u001b[0mfigure\u001b[0m\u001b[0;34m(\u001b[0m\u001b[0mfigsize\u001b[0m \u001b[0;34m=\u001b[0m \u001b[0;34m(\u001b[0m\u001b[0;36m15\u001b[0m\u001b[0;34m,\u001b[0m \u001b[0;36m8\u001b[0m\u001b[0;34m)\u001b[0m\u001b[0;34m)\u001b[0m\u001b[0;34m\u001b[0m\u001b[0m\n\u001b[1;32m      4\u001b[0m \u001b[0mgs\u001b[0m \u001b[0;34m=\u001b[0m \u001b[0mGridSpec\u001b[0m\u001b[0;34m(\u001b[0m\u001b[0;36m1\u001b[0m\u001b[0;34m,\u001b[0m \u001b[0;36m2\u001b[0m\u001b[0;34m)\u001b[0m\u001b[0;34m\u001b[0m\u001b[0m\n\u001b[1;32m      5\u001b[0m \u001b[0;34m\u001b[0m\u001b[0m\n",
      "\u001b[0;32m/home/simon/src/cloud_colocations/cloud_colocations/plots.py\u001b[0m in \u001b[0;36m<module>\u001b[0;34m()\u001b[0m\n\u001b[1;32m      2\u001b[0m \u001b[0;32mimport\u001b[0m \u001b[0mnumpy\u001b[0m \u001b[0;32mas\u001b[0m \u001b[0mnp\u001b[0m\u001b[0;34m\u001b[0m\u001b[0m\n\u001b[1;32m      3\u001b[0m \u001b[0;32mimport\u001b[0m \u001b[0mcartopy\u001b[0m\u001b[0;34m.\u001b[0m\u001b[0mcrs\u001b[0m \u001b[0;32mas\u001b[0m \u001b[0mccrs\u001b[0m\u001b[0;34m\u001b[0m\u001b[0m\n\u001b[0;32m----> 4\u001b[0;31m \u001b[0;32mfrom\u001b[0m \u001b[0mskimage\u001b[0m \u001b[0;32mimport\u001b[0m \u001b[0mexposure\u001b[0m\u001b[0;34m\u001b[0m\u001b[0m\n\u001b[0m\u001b[1;32m      5\u001b[0m \u001b[0;34m\u001b[0m\u001b[0m\n\u001b[1;32m      6\u001b[0m \u001b[0;32mfrom\u001b[0m \u001b[0mmatplotlib\u001b[0m\u001b[0;34m.\u001b[0m\u001b[0mcolors\u001b[0m \u001b[0;32mimport\u001b[0m \u001b[0mNormalize\u001b[0m\u001b[0;34m\u001b[0m\u001b[0m\n",
      "\u001b[0;32m/home/simon/build/anaconda3/lib/python3.6/site-packages/skimage/__init__.py\u001b[0m in \u001b[0;36m<module>\u001b[0;34m()\u001b[0m\n\u001b[1;32m    155\u001b[0m     \u001b[0;32mexcept\u001b[0m \u001b[0mImportError\u001b[0m \u001b[0;32mas\u001b[0m \u001b[0me\u001b[0m\u001b[0;34m:\u001b[0m\u001b[0;34m\u001b[0m\u001b[0m\n\u001b[1;32m    156\u001b[0m         \u001b[0m_raise_build_error\u001b[0m\u001b[0;34m(\u001b[0m\u001b[0me\u001b[0m\u001b[0;34m)\u001b[0m\u001b[0;34m\u001b[0m\u001b[0m\n\u001b[0;32m--> 157\u001b[0;31m     \u001b[0;32mfrom\u001b[0m \u001b[0;34m.\u001b[0m\u001b[0mutil\u001b[0m\u001b[0;34m.\u001b[0m\u001b[0mdtype\u001b[0m \u001b[0;32mimport\u001b[0m \u001b[0;34m*\u001b[0m\u001b[0;34m\u001b[0m\u001b[0m\n\u001b[0m\u001b[1;32m    158\u001b[0m \u001b[0;34m\u001b[0m\u001b[0m\n\u001b[1;32m    159\u001b[0m \u001b[0;34m\u001b[0m\u001b[0m\n",
      "\u001b[0;32m/home/simon/build/anaconda3/lib/python3.6/site-packages/skimage/util/__init__.py\u001b[0m in \u001b[0;36m<module>\u001b[0;34m()\u001b[0m\n\u001b[1;32m     10\u001b[0m \u001b[0;32mfrom\u001b[0m \u001b[0;34m.\u001b[0m\u001b[0munique\u001b[0m \u001b[0;32mimport\u001b[0m \u001b[0munique_rows\u001b[0m\u001b[0;34m\u001b[0m\u001b[0m\n\u001b[1;32m     11\u001b[0m \u001b[0;32mfrom\u001b[0m \u001b[0;34m.\u001b[0m\u001b[0m_invert\u001b[0m \u001b[0;32mimport\u001b[0m \u001b[0minvert\u001b[0m\u001b[0;34m\u001b[0m\u001b[0m\n\u001b[0;32m---> 12\u001b[0;31m \u001b[0;32mfrom\u001b[0m \u001b[0;34m.\u001b[0m\u001b[0m_montage\u001b[0m \u001b[0;32mimport\u001b[0m \u001b[0mmontage\u001b[0m\u001b[0;34m,\u001b[0m \u001b[0mmontage2d\u001b[0m\u001b[0;34m\u001b[0m\u001b[0m\n\u001b[0m\u001b[1;32m     13\u001b[0m \u001b[0;34m\u001b[0m\u001b[0m\n\u001b[1;32m     14\u001b[0m \u001b[0;32mfrom\u001b[0m \u001b[0;34m.\u001b[0m\u001b[0;34m.\u001b[0m\u001b[0m_shared\u001b[0m\u001b[0;34m.\u001b[0m\u001b[0mutils\u001b[0m \u001b[0;32mimport\u001b[0m \u001b[0mcopy_func\u001b[0m\u001b[0;34m\u001b[0m\u001b[0m\n",
      "\u001b[0;32m/home/simon/build/anaconda3/lib/python3.6/site-packages/skimage/util/_montage.py\u001b[0m in \u001b[0;36m<module>\u001b[0;34m()\u001b[0m\n\u001b[1;32m      1\u001b[0m \u001b[0;32mimport\u001b[0m \u001b[0mnumpy\u001b[0m \u001b[0;32mas\u001b[0m \u001b[0mnp\u001b[0m\u001b[0;34m\u001b[0m\u001b[0m\n\u001b[0;32m----> 2\u001b[0;31m \u001b[0;32mfrom\u001b[0m \u001b[0;34m.\u001b[0m\u001b[0;34m.\u001b[0m \u001b[0;32mimport\u001b[0m \u001b[0mexposure\u001b[0m\u001b[0;34m\u001b[0m\u001b[0m\n\u001b[0m\u001b[1;32m      3\u001b[0m \u001b[0;32mfrom\u001b[0m \u001b[0;34m.\u001b[0m\u001b[0;34m.\u001b[0m\u001b[0m_shared\u001b[0m\u001b[0;34m.\u001b[0m\u001b[0mutils\u001b[0m \u001b[0;32mimport\u001b[0m \u001b[0mdeprecated\u001b[0m\u001b[0;34m\u001b[0m\u001b[0m\n\u001b[1;32m      4\u001b[0m \u001b[0;34m\u001b[0m\u001b[0m\n\u001b[1;32m      5\u001b[0m \u001b[0;34m\u001b[0m\u001b[0m\n",
      "\u001b[0;32m/home/simon/build/anaconda3/lib/python3.6/site-packages/skimage/exposure/__init__.py\u001b[0m in \u001b[0;36m<module>\u001b[0;34m()\u001b[0m\n\u001b[0;32m----> 1\u001b[0;31m \u001b[0;32mfrom\u001b[0m \u001b[0;34m.\u001b[0m\u001b[0mexposure\u001b[0m \u001b[0;32mimport\u001b[0m \u001b[0mhistogram\u001b[0m\u001b[0;34m,\u001b[0m \u001b[0mequalize_hist\u001b[0m\u001b[0;34m,\u001b[0m\u001b[0;31m \u001b[0m\u001b[0;31m\\\u001b[0m\u001b[0;34m\u001b[0m\u001b[0m\n\u001b[0m\u001b[1;32m      2\u001b[0m                       \u001b[0mrescale_intensity\u001b[0m\u001b[0;34m,\u001b[0m \u001b[0mcumulative_distribution\u001b[0m\u001b[0;34m,\u001b[0m\u001b[0;31m \u001b[0m\u001b[0;31m\\\u001b[0m\u001b[0;34m\u001b[0m\u001b[0m\n\u001b[1;32m      3\u001b[0m                       \u001b[0madjust_gamma\u001b[0m\u001b[0;34m,\u001b[0m \u001b[0madjust_sigmoid\u001b[0m\u001b[0;34m,\u001b[0m \u001b[0madjust_log\u001b[0m\u001b[0;34m,\u001b[0m\u001b[0;31m \u001b[0m\u001b[0;31m\\\u001b[0m\u001b[0;34m\u001b[0m\u001b[0m\n\u001b[1;32m      4\u001b[0m                       \u001b[0mis_low_contrast\u001b[0m\u001b[0;34m\u001b[0m\u001b[0m\n\u001b[1;32m      5\u001b[0m \u001b[0;34m\u001b[0m\u001b[0m\n",
      "\u001b[0;32m/home/simon/build/anaconda3/lib/python3.6/site-packages/skimage/exposure/exposure.py\u001b[0m in \u001b[0;36m<module>\u001b[0;34m()\u001b[0m\n\u001b[1;32m      2\u001b[0m \u001b[0;32mimport\u001b[0m \u001b[0mnumpy\u001b[0m \u001b[0;32mas\u001b[0m \u001b[0mnp\u001b[0m\u001b[0;34m\u001b[0m\u001b[0m\n\u001b[1;32m      3\u001b[0m \u001b[0;34m\u001b[0m\u001b[0m\n\u001b[0;32m----> 4\u001b[0;31m \u001b[0;32mfrom\u001b[0m \u001b[0;34m.\u001b[0m\u001b[0;34m.\u001b[0m\u001b[0mcolor\u001b[0m \u001b[0;32mimport\u001b[0m \u001b[0mrgb2gray\u001b[0m\u001b[0;34m\u001b[0m\u001b[0m\n\u001b[0m\u001b[1;32m      5\u001b[0m \u001b[0;32mfrom\u001b[0m \u001b[0;34m.\u001b[0m\u001b[0;34m.\u001b[0m\u001b[0mutil\u001b[0m\u001b[0;34m.\u001b[0m\u001b[0mdtype\u001b[0m \u001b[0;32mimport\u001b[0m \u001b[0mdtype_range\u001b[0m\u001b[0;34m,\u001b[0m \u001b[0mdtype_limits\u001b[0m\u001b[0;34m\u001b[0m\u001b[0m\n\u001b[1;32m      6\u001b[0m \u001b[0;32mfrom\u001b[0m \u001b[0;34m.\u001b[0m\u001b[0;34m.\u001b[0m\u001b[0m_shared\u001b[0m\u001b[0;34m.\u001b[0m\u001b[0mutils\u001b[0m \u001b[0;32mimport\u001b[0m \u001b[0mwarn\u001b[0m\u001b[0;34m\u001b[0m\u001b[0m\n",
      "\u001b[0;32m/home/simon/build/anaconda3/lib/python3.6/site-packages/skimage/color/__init__.py\u001b[0m in \u001b[0;36m<module>\u001b[0;34m()\u001b[0m\n\u001b[0;32m----> 1\u001b[0;31m from .colorconv import (convert_colorspace,\n\u001b[0m\u001b[1;32m      2\u001b[0m                         \u001b[0mguess_spatial_dimensions\u001b[0m\u001b[0;34m,\u001b[0m\u001b[0;34m\u001b[0m\u001b[0m\n\u001b[1;32m      3\u001b[0m                         \u001b[0mrgba2rgb\u001b[0m\u001b[0;34m,\u001b[0m\u001b[0;34m\u001b[0m\u001b[0m\n\u001b[1;32m      4\u001b[0m                         \u001b[0mrgb2hsv\u001b[0m\u001b[0;34m,\u001b[0m\u001b[0;34m\u001b[0m\u001b[0m\n\u001b[1;32m      5\u001b[0m                         \u001b[0mhsv2rgb\u001b[0m\u001b[0;34m,\u001b[0m\u001b[0;34m\u001b[0m\u001b[0m\n",
      "\u001b[0;32m/home/simon/build/anaconda3/lib/python3.6/site-packages/skimage/color/colorconv.py\u001b[0m in \u001b[0;36m<module>\u001b[0;34m()\u001b[0m\n\u001b[1;32m     57\u001b[0m \u001b[0;32mfrom\u001b[0m \u001b[0mwarnings\u001b[0m \u001b[0;32mimport\u001b[0m \u001b[0mwarn\u001b[0m\u001b[0;34m\u001b[0m\u001b[0m\n\u001b[1;32m     58\u001b[0m \u001b[0;32mimport\u001b[0m \u001b[0mnumpy\u001b[0m \u001b[0;32mas\u001b[0m \u001b[0mnp\u001b[0m\u001b[0;34m\u001b[0m\u001b[0m\n\u001b[0;32m---> 59\u001b[0;31m \u001b[0;32mfrom\u001b[0m \u001b[0mscipy\u001b[0m \u001b[0;32mimport\u001b[0m \u001b[0mlinalg\u001b[0m\u001b[0;34m\u001b[0m\u001b[0m\n\u001b[0m\u001b[1;32m     60\u001b[0m \u001b[0;32mfrom\u001b[0m \u001b[0;34m.\u001b[0m\u001b[0;34m.\u001b[0m\u001b[0mutil\u001b[0m \u001b[0;32mimport\u001b[0m \u001b[0mdtype\u001b[0m\u001b[0;34m,\u001b[0m \u001b[0mdtype_limits\u001b[0m\u001b[0;34m\u001b[0m\u001b[0m\n\u001b[1;32m     61\u001b[0m \u001b[0;34m\u001b[0m\u001b[0m\n",
      "\u001b[0;32m/home/simon/build/anaconda3/lib/python3.6/site-packages/scipy/linalg/__init__.py\u001b[0m in \u001b[0;36m<module>\u001b[0;34m()\u001b[0m\n\u001b[1;32m    173\u001b[0m \u001b[0;32mfrom\u001b[0m \u001b[0;34m.\u001b[0m\u001b[0mlinalg_version\u001b[0m \u001b[0;32mimport\u001b[0m \u001b[0mlinalg_version\u001b[0m \u001b[0;32mas\u001b[0m \u001b[0m__version__\u001b[0m\u001b[0;34m\u001b[0m\u001b[0m\n\u001b[1;32m    174\u001b[0m \u001b[0;34m\u001b[0m\u001b[0m\n\u001b[0;32m--> 175\u001b[0;31m \u001b[0;32mfrom\u001b[0m \u001b[0;34m.\u001b[0m\u001b[0mmisc\u001b[0m \u001b[0;32mimport\u001b[0m \u001b[0;34m*\u001b[0m\u001b[0;34m\u001b[0m\u001b[0m\n\u001b[0m\u001b[1;32m    176\u001b[0m \u001b[0;32mfrom\u001b[0m \u001b[0;34m.\u001b[0m\u001b[0mbasic\u001b[0m \u001b[0;32mimport\u001b[0m \u001b[0;34m*\u001b[0m\u001b[0;34m\u001b[0m\u001b[0m\n\u001b[1;32m    177\u001b[0m \u001b[0;32mfrom\u001b[0m \u001b[0;34m.\u001b[0m\u001b[0mdecomp\u001b[0m \u001b[0;32mimport\u001b[0m \u001b[0;34m*\u001b[0m\u001b[0;34m\u001b[0m\u001b[0m\n",
      "\u001b[0;32m/home/simon/build/anaconda3/lib/python3.6/site-packages/scipy/linalg/misc.py\u001b[0m in \u001b[0;36m<module>\u001b[0;34m()\u001b[0m\n\u001b[1;32m      3\u001b[0m \u001b[0;32mimport\u001b[0m \u001b[0mnumpy\u001b[0m \u001b[0;32mas\u001b[0m \u001b[0mnp\u001b[0m\u001b[0;34m\u001b[0m\u001b[0m\n\u001b[1;32m      4\u001b[0m \u001b[0;32mfrom\u001b[0m \u001b[0mnumpy\u001b[0m\u001b[0;34m.\u001b[0m\u001b[0mlinalg\u001b[0m \u001b[0;32mimport\u001b[0m \u001b[0mLinAlgError\u001b[0m\u001b[0;34m\u001b[0m\u001b[0m\n\u001b[0;32m----> 5\u001b[0;31m \u001b[0;32mfrom\u001b[0m \u001b[0;34m.\u001b[0m\u001b[0mblas\u001b[0m \u001b[0;32mimport\u001b[0m \u001b[0mget_blas_funcs\u001b[0m\u001b[0;34m\u001b[0m\u001b[0m\n\u001b[0m\u001b[1;32m      6\u001b[0m \u001b[0;32mfrom\u001b[0m \u001b[0;34m.\u001b[0m\u001b[0mlapack\u001b[0m \u001b[0;32mimport\u001b[0m \u001b[0mget_lapack_funcs\u001b[0m\u001b[0;34m\u001b[0m\u001b[0m\n\u001b[1;32m      7\u001b[0m \u001b[0;34m\u001b[0m\u001b[0m\n",
      "\u001b[0;32m/home/simon/build/anaconda3/lib/python3.6/site-packages/scipy/linalg/blas.py\u001b[0m in \u001b[0;36m<module>\u001b[0;34m()\u001b[0m\n\u001b[1;32m    153\u001b[0m \u001b[0;32mimport\u001b[0m \u001b[0mnumpy\u001b[0m \u001b[0;32mas\u001b[0m \u001b[0m_np\u001b[0m\u001b[0;34m\u001b[0m\u001b[0m\n\u001b[1;32m    154\u001b[0m \u001b[0;34m\u001b[0m\u001b[0m\n\u001b[0;32m--> 155\u001b[0;31m \u001b[0;32mfrom\u001b[0m \u001b[0mscipy\u001b[0m\u001b[0;34m.\u001b[0m\u001b[0mlinalg\u001b[0m \u001b[0;32mimport\u001b[0m \u001b[0m_fblas\u001b[0m\u001b[0;34m\u001b[0m\u001b[0m\n\u001b[0m\u001b[1;32m    156\u001b[0m \u001b[0;32mtry\u001b[0m\u001b[0;34m:\u001b[0m\u001b[0;34m\u001b[0m\u001b[0m\n\u001b[1;32m    157\u001b[0m     \u001b[0;32mfrom\u001b[0m \u001b[0mscipy\u001b[0m\u001b[0;34m.\u001b[0m\u001b[0mlinalg\u001b[0m \u001b[0;32mimport\u001b[0m \u001b[0m_cblas\u001b[0m\u001b[0;34m\u001b[0m\u001b[0m\n",
      "\u001b[0;31mImportError\u001b[0m: libmkl_intel_lp64.so: cannot open shared object file: No such file or directory"
     ]
    }
   ],
   "source": [
    "from cloud_colocations.plots   import plot_modis_granule_composite, plot_scalar_field\n",
    "from matplotlib.gridspec import GridSpec\n",
    "f = plt.figure(figsize = (15, 8))\n",
    "gs = GridSpec(1, 2)\n",
    "\n",
    "ax, _ = plot_modis_granule_composite(modis_granule, modis_geo_granule, grid_spec = gs[0])\n",
    "ax.set_xlim(lon_lims)\n",
    "ax.set_ylim(lat_lims)\n",
    "\n",
    "lats = modis_geo_granule.lats\n",
    "lons = modis_geo_granule.lons\n",
    "x    = modis_granule.data[30, :, :]\n",
    "ax, _ = plot_scalar_field(x, lats, lons, grid_spec = gs[1])\n",
    "ax.set_xlim(lon_lims)\n",
    "ax.set_ylim(lat_lims)"
   ]
  },
  {
   "cell_type": "markdown",
   "metadata": {},
   "source": [
    "## Modis input data"
   ]
  },
  {
   "cell_type": "code",
   "execution_count": 1,
   "metadata": {},
   "outputs": [
    {
     "ename": "ModuleNotFoundError",
     "evalue": "No module named 'cloud_colocations'",
     "output_type": "error",
     "traceback": [
      "\u001b[0;31m---------------------------------------------------------------------------\u001b[0m",
      "\u001b[0;31mModuleNotFoundError\u001b[0m                       Traceback (most recent call last)",
      "\u001b[0;32m<ipython-input-1-7364b2471c28>\u001b[0m in \u001b[0;36m<module>\u001b[0;34m()\u001b[0m\n\u001b[0;32m----> 1\u001b[0;31m \u001b[0;32mfrom\u001b[0m \u001b[0mcloud_colocations\u001b[0m\u001b[0;34m.\u001b[0m\u001b[0mproducts\u001b[0m \u001b[0;32mimport\u001b[0m \u001b[0mset_cache\u001b[0m\u001b[0;34m\u001b[0m\u001b[0m\n\u001b[0m\u001b[1;32m      2\u001b[0m \u001b[0mset_cache\u001b[0m\u001b[0;34m(\u001b[0m\u001b[0;34m\"../cache\"\u001b[0m\u001b[0;34m)\u001b[0m\u001b[0;34m\u001b[0m\u001b[0m\n",
      "\u001b[0;31mModuleNotFoundError\u001b[0m: No module named 'cloud_colocations'"
     ]
    }
   ],
   "source": [
    "from cloud_colocations.products import set_cache\n",
    "set_cache(\"../cache\")"
   ]
  },
  {
   "cell_type": "code",
   "execution_count": 48,
   "metadata": {},
   "outputs": [
    {
     "name": "stdout",
     "output_type": "stream",
     "text": [
      "Loading files from  ../2009/002\n"
     ]
    }
   ],
   "source": [
    "from cloud_colocations.raw_data import RawData\n",
    "data = RawData(2009, 2, 20, basepath = \"..\")"
   ]
  },
  {
   "cell_type": "code",
   "execution_count": 95,
   "metadata": {
    "collapsed": true
   },
   "outputs": [],
   "source": [
    "times = data.meta_data.variables[\"time\"]\n",
    "h, m = 7, 17\n",
    "t = 90102 + (7 + 13 / 60) / 24 \n",
    "i = np.where(t < times[:])[0][0]"
   ]
  },
  {
   "cell_type": "markdown",
   "metadata": {},
   "source": [
    "## Co-location overview"
   ]
  },
  {
   "cell_type": "code",
   "execution_count": 156,
   "metadata": {
    "collapsed": true
   },
   "outputs": [],
   "source": [
    "col_ind = 2872"
   ]
  },
  {
   "cell_type": "code",
   "execution_count": 157,
   "metadata": {
    "collapsed": true
   },
   "outputs": [],
   "source": [
    "lats_caliop = data.caliop_ss_11_data.variables[\"lats\"][col_ind, :]\n",
    "lons_caliop = data.caliop_ss_11_data.variables[\"lons\"][col_ind, :]"
   ]
  },
  {
   "cell_type": "code",
   "execution_count": 158,
   "metadata": {
    "collapsed": true
   },
   "outputs": [],
   "source": [
    "lats_modis = data.modis_data.variables[\"lats\"][col_ind]\n",
    "lons_modis = data.modis_data.variables[\"lons\"][col_ind]\n",
    "lats_modis_5 = data.modis_ss_5_data.variables[\"lats\"][col_ind]\n",
    "lons_modis_5 = data.modis_ss_5_data.variables[\"lons\"][col_ind]\n",
    "lats_modis_11 = data.modis_ss_11_data.variables[\"lats\"][col_ind]\n",
    "lons_modis_11 = data.modis_ss_11_data.variables[\"lons\"][col_ind]"
   ]
  },
  {
   "cell_type": "code",
   "execution_count": 159,
   "metadata": {
    "collapsed": true
   },
   "outputs": [],
   "source": [
    "def get_boundary(lats, lons):\n",
    "    l = np.hstack([lats[:, [0]], lons[:, [0]]])\n",
    "    b = np.hstack([lats[[-1], :].T, lons[[-1], :].T])\n",
    "    r = np.hstack([lats[:, [-1]], lons[:, [-1]]])\n",
    "    t = np.hstack([lats[[0], :].T, lons[[0], :].T])\n",
    "                   \n",
    "    bs = np.vstack([l, b, r[::-1], t[::-1]])\n",
    "    return bs"
   ]
  },
  {
   "cell_type": "code",
   "execution_count": 204,
   "metadata": {},
   "outputs": [
    {
     "ename": "AttributeError",
     "evalue": "module 'matplotlib.colors' has no attribute 'Reds'",
     "output_type": "error",
     "traceback": [
      "\u001b[0;31m---------------------------------------------------------------------------\u001b[0m",
      "\u001b[0;31mAttributeError\u001b[0m                            Traceback (most recent call last)",
      "\u001b[0;32m<ipython-input-204-eb7f2df7c46a>\u001b[0m in \u001b[0;36m<module>\u001b[0;34m()\u001b[0m\n\u001b[1;32m      1\u001b[0m \u001b[0;32mimport\u001b[0m \u001b[0mmatplotlib\u001b[0m\u001b[0;34m\u001b[0m\u001b[0m\n\u001b[0;32m----> 2\u001b[0;31m \u001b[0mmatplotlib\u001b[0m\u001b[0;34m.\u001b[0m\u001b[0mcolors\u001b[0m\u001b[0;34m.\u001b[0m\u001b[0mReds\u001b[0m\u001b[0;34m\u001b[0m\u001b[0m\n\u001b[0m",
      "\u001b[0;31mAttributeError\u001b[0m: module 'matplotlib.colors' has no attribute 'Reds'"
     ]
    }
   ],
   "source": [
    "import matplotlib\n",
    "matplotlib.colors.Reds"
   ]
  },
  {
   "cell_type": "code",
   "execution_count": 212,
   "metadata": {},
   "outputs": [
    {
     "data": {
      "text/plain": [
       "(0.4549019607843137, 0.7686274509803922, 0.4627450980392157, 1.0)"
      ]
     },
     "execution_count": 212,
     "metadata": {},
     "output_type": "execute_result"
    }
   ],
   "source": [
    "colors(1)"
   ]
  },
  {
   "cell_type": "code",
   "execution_count": null,
   "metadata": {
    "collapsed": true
   },
   "outputs": [],
   "source": [
    "gs = GridSpec(3, 9)\n",
    "f = plt.figure(figsize = (10, 6))\n",
    "\n",
    "#\n",
    "# Modis granule\n",
    "#\n",
    "\n",
    "ax, img = plot_modis_granule_composite(modis_granule, modis_geo_granule, grid_spec = gs[:, :5])\n",
    "\n",
    "colors = plt.get_cmap(\"Greens\", 3)\n",
    "ccs = data.caliop_ss_11_data.variables[\"cloud_class\"][col_ind, :]\n",
    "inds = ccs == 0\n",
    "ax.scatter(lons_caliop[inds], lats_caliop[inds], c = \"grey\", s = 4.0, label = \"No clouds\")\n",
    "\n",
    "ccs = data.caliop_ss_11_data.variables[\"cloud_class\"][col_ind, :]\n",
    "inds = ccs == 1\n",
    "ax.scatter(lons_caliop[inds], lats_caliop[inds], c = colors(1), label = \"Low overcast\")\n",
    "\n",
    "ccs = data.caliop_ss_11_data.variables[\"cloud_class\"][col_ind, :]\n",
    "inds = ccs == 2\n",
    "ax.scatter(lons_caliop[inds], lats_caliop[inds], c = colors(2), label = \"Stratocumulus\")\n",
    "\n",
    "ax.legend(ncol = 3, loc = \"lower center\", bbox_to_anchor = [0.5, -0.2], fontsize = 12)\n",
    "\n",
    "xy = get_boundary(lons_modis_11, lats_modis_11)\n",
    "p  = Polygon(xy = xy, edgecolor = \"white\", color = None, fill = False, lw = 2)\n",
    "ax.add_patch(p)\n",
    "\n",
    "text_offset = np.array([-0.5, 0.1])\n",
    "ax.annotate(\"(a)\", xy[xy.shape[0] // 2, :] + text_offset, color = \"white\", fontsize = 16)\n",
    "\n",
    "xy = get_boundary(lons_modis_5, lats_modis_5)\n",
    "p  = Polygon(xy = xy, edgecolor = \"white\", color = None, fill = False, lw = 2)\n",
    "ax.add_patch(p)\n",
    "ax.annotate(\"(b)\", xy[xy.shape[0] // 2, :] + text_offset, color = \"white\", fontsize = 16)\n",
    "\n",
    "xy = get_boundary(lons_modis, lats_modis)\n",
    "p  = Polygon(xy = xy, edgecolor = \"white\", color = None, fill = False, lw = 2)\n",
    "ax.add_patch(p)\n",
    "ax.annotate(\"(c)\", xy[xy.shape[0] // 2, :] + text_offset, color = \"white\", fontsize = 16)\n",
    "\n",
    "\n",
    "ax.set_xlim(lon_lims)\n",
    "ax.set_ylim(lat_lims)\n",
    "#\n",
    "# Input data\n",
    "#\n",
    "from cloud_colocations.plots import grid_to_edges\n",
    "\n",
    "lats = data.modis_ss_11_data.variables[\"lats\"][col_ind, :, :]\n",
    "lons = data.modis_ss_11_data.variables[\"lons\"][col_ind, :, :]\n",
    "x = data.modis_ss_11_data.variables[\"band_30\"][col_ind, :, :]\n",
    "ax, img = plot_scalar_field(x, lats, lons, grid_spec = gs[0, 5:7])\n",
    "ax.set_title(\"(a)\", loc = \"left\", size = 16)\n",
    "norm = img.norm\n",
    "\n",
    "lats = data.modis_ss_5_data.variables[\"lats\"][col_ind, :, :]\n",
    "lons = data.modis_ss_5_data.variables[\"lons\"][col_ind, :, :]\n",
    "x = data.modis_ss_5_data.variables[\"band_30\"][col_ind, :, :]\n",
    "ax, _ = plot_scalar_field(x, lats, lons, grid_spec = gs[1, 5:7], norm = norm)\n",
    "ax.set_title(\"(b)\", loc = \"left\", size = 16)\n",
    "\n",
    "lats = data.modis_data.variables[\"lats\"][col_ind, :, :]\n",
    "lons = data.modis_data.variables[\"lons\"][col_ind, :, :]\n",
    "x = data.modis_data.variables[\"band_30\"][col_ind, :, :]\n",
    "ax, _ = plot_scalar_field(x, lats, lons, grid_spec = gs[2, 5:7], norm = norm)\n",
    "ax.set_title(\"(c)\", loc = \"left\", size = 16)\n",
    "\n",
    "lats = data.modis_ss_11_data.variables[\"lats\"][col_ind, :, :]\n",
    "lons = data.modis_ss_11_data.variables[\"lons\"][col_ind, :, :]\n",
    "x = data.modis_ss_11_data.variables[\"band_31\"][col_ind, :, :]\n",
    "ax, img = plot_scalar_field(x, lats, lons, grid_spec = gs[0, 7:])\n",
    "ax.set_title(\"(a)\", loc = \"left\", size = 16)\n",
    "norm = img.norm\n",
    "\n",
    "lats = data.modis_ss_5_data.variables[\"lats\"][col_ind, :, :]\n",
    "lons = data.modis_ss_5_data.variables[\"lons\"][col_ind, :, :]\n",
    "x = data.modis_ss_5_data.variables[\"band_31\"][col_ind, :, :]\n",
    "ax, _ = plot_scalar_field(x, lats, lons, grid_spec = gs[1, 7:], norm = norm)\n",
    "ax.set_title(\"(b)\", loc = \"left\", size = 16)\n",
    "\n",
    "lats = data.modis_data.variables[\"lats\"][col_ind, :, :]\n",
    "lons = data.modis_data.variables[\"lons\"][col_ind, :, :]\n",
    "x = data.modis_data.variables[\"band_31\"][col_ind, :, :]\n",
    "ax, _ = plot_scalar_field(x, lats, lons, grid_spec = gs[2, 7:], norm = norm)\n",
    "ax.set_title(\"(c)\", loc = \"left\", size = 16)\n",
    "\n",
    "plt.tight_layout()\n",
    "\n",
    "f.savefig(\"../plots/colocation_overview.png\", bbox_inches = \"tight\")"
   ]
  },
  {
   "cell_type": "code",
   "execution_count": 199,
   "metadata": {},
   "outputs": [
    {
     "data": {
      "text/plain": [
       "array([0, 0, 0, 0, 0, 0, 0, 0, 0, 0, 0, 0, 0, 0, 0, 0, 0, 0, 0, 0, 0, 0,\n",
       "       0, 0, 0, 0, 0, 0, 0, 0, 0, 0, 0, 0, 0, 0, 0, 0, 0, 0, 0, 0, 0, 0,\n",
       "       0, 0, 0, 0, 0, 0, 0, 0, 0, 0, 0, 0, 0, 0, 0, 0, 1, 1, 1, 1, 1, 1,\n",
       "       1, 1, 1, 1, 2, 1, 2, 2, 2, 2, 2, 2, 2, 2, 2, 2, 2, 2, 2, 2, 2, 2,\n",
       "       2, 2, 1, 2, 1, 1, 0, 0, 0, 0, 0, 0, 0, 0, 0, 0, 0, 0, 0, 0, 0, 0,\n",
       "       0, 0, 0, 0, 0, 2, 2, 2, 0, 0, 0, 0, 0, 0, 0, 0, 0, 0, 0, 0, 0, 0,\n",
       "       0, 0, 0, 0, 0, 0, 0, 0, 0, 0, 0, 0, 0, 0, 0, 0, 0, 0, 0, 0, 0, 0,\n",
       "       0, 0, 0, 0, 0, 0, 0, 0, 0, 0, 0, 0, 0, 0, 0, 0, 0, 0, 0, 0, 0, 0,\n",
       "       0, 0, 0, 0, 0, 0, 0, 0, 0, 0, 0, 0, 0, 0, 0, 0, 0, 0, 0, 0, 0, 0,\n",
       "       0, 0, 0, 0, 0, 0, 0, 0, 0, 0, 0, 0, 0, 0, 0, 0, 0, 0, 0, 0, 0, 0,\n",
       "       0, 0, 0, 0, 0, 0, 0, 0, 0, 0, 0, 0, 0, 0, 0, 0, 0, 0, 0, 0, 0, 0,\n",
       "       0, 2, 2, 2, 2, 2, 2, 0, 0, 2, 2, 2, 2, 2, 0, 2, 2, 2, 2, 2, 2, 2,\n",
       "       2, 2, 2, 2, 2, 2, 2, 2, 0, 0, 0, 2, 0, 2, 2, 2, 2, 2, 0, 0, 0, 0,\n",
       "       0, 2, 2, 2, 2, 2, 2, 2, 2, 2, 2, 2, 2, 2, 0, 0, 0, 0, 0, 2, 2, 2,\n",
       "       2, 2, 2, 2, 2, 2, 2, 2, 2, 2, 2, 2, 2, 2, 2, 2, 2, 2, 2, 3, 3, 3,\n",
       "       3, 3, 3, 3, 3, 3, 3, 2, 2, 3, 2, 2, 2, 2, 2, 2, 2, 2, 2, 2, 2, 2,\n",
       "       2, 2, 2, 2, 2, 2, 2, 2, 2, 2, 2, 2, 2, 2, 2, 2, 3, 3, 2, 2, 2, 2,\n",
       "       2, 2, 2, 2, 2, 2, 2, 2, 2, 2, 2, 2, 2, 2, 2, 2, 2, 2, 2, 2, 0, 0,\n",
       "       0, 0, 0, 0, 0, 0, 0, 0, 0, 0, 0, 0, 0, 0, 0, 0, 0, 0, 0, 0, 0, 0,\n",
       "       0, 0, 0, 0, 0, 0, 0, 0, 0, 0, 0, 0, 0, 0, 0, 0, 0, 0, 0, 0, 2, 2,\n",
       "       2], dtype=int32)"
      ]
     },
     "execution_count": 199,
     "metadata": {},
     "output_type": "execute_result"
    }
   ],
   "source": [
    "data.caliop_ss_11_data.variables[\"cloud_class\"][col_ind, :]"
   ]
  },
  {
   "cell_type": "code",
   "execution_count": 142,
   "metadata": {},
   "outputs": [
    {
     "data": {
      "text/plain": [
       "array([[41.9728  , 93.23185 ],\n",
       "       [42.071568, 93.20964 ],\n",
       "       [42.171856, 93.18555 ],\n",
       "       [42.27056 , 93.16297 ],\n",
       "       [42.37087 , 93.13911 ],\n",
       "       [42.452976, 93.11093 ],\n",
       "       [42.55172 , 93.08858 ],\n",
       "       [42.65201 , 93.064186],\n",
       "       [42.750587, 93.03999 ],\n",
       "       [42.850655, 93.01378 ],\n",
       "       [42.949257, 92.99002 ],\n",
       "       [43.049366, 92.96396 ],\n",
       "       [43.1478  , 92.93837 ],\n",
       "       [43.247704, 92.91039 ],\n",
       "       [43.34596 , 92.883484],\n",
       "       [43.427795, 92.85087 ],\n",
       "       [43.528248, 92.82892 ],\n",
       "       [43.627205, 92.80898 ],\n",
       "       [43.727367, 92.78345 ],\n",
       "       [43.82574 , 92.757675],\n",
       "       [43.925934, 92.73255 ],\n",
       "       [44.024624, 92.70965 ],\n",
       "       [44.12488 , 92.68537 ],\n",
       "       [44.223534, 92.66239 ],\n",
       "       [44.323917, 92.63835 ],\n",
       "       [44.40622 , 92.61156 ],\n",
       "       [44.504814, 92.587685],\n",
       "       [44.60513 , 92.56348 ],\n",
       "       [44.703815, 92.54068 ],\n",
       "       [44.804108, 92.51587 ],\n",
       "       [44.90236 , 92.48824 ],\n",
       "       [45.00137 , 92.45114 ],\n",
       "       [45.100338, 92.43081 ],\n",
       "       [45.20052 , 92.40488 ],\n",
       "       [45.299175, 92.3816  ],\n",
       "       [45.38142 , 92.35487 ],\n",
       "       [45.481678, 92.3301  ],\n",
       "       [45.580215, 92.30579 ],\n",
       "       [45.68024 , 92.27906 ],\n",
       "       [45.778606, 92.25307 ],\n",
       "       [45.878635, 92.22629 ],\n",
       "       [45.878635, 92.22629 ],\n",
       "       [45.85916 , 92.02534 ],\n",
       "       [45.840195, 91.83284 ],\n",
       "       [45.82107 , 91.64224 ],\n",
       "       [45.801888, 91.45426 ],\n",
       "       [45.783005, 91.27211 ],\n",
       "       [45.76397 , 91.091415],\n",
       "       [45.744896, 90.91315 ],\n",
       "       [45.72632 , 90.7418  ],\n",
       "       [45.707447, 90.570404],\n",
       "       [45.688725, 90.4026  ],\n",
       "       [45.670086, 90.23778 ],\n",
       "       [45.651497, 90.07549 ],\n",
       "       [45.632915, 89.91533 ],\n",
       "       [45.61435 , 89.75727 ],\n",
       "       [45.595802, 89.601234],\n",
       "       [45.577225, 89.44683 ],\n",
       "       [45.55865 , 89.29423 ],\n",
       "       [45.540062, 89.14323 ],\n",
       "       [45.52147 , 88.99385 ],\n",
       "       [45.502857, 88.84595 ],\n",
       "       [45.48421 , 88.69933 ],\n",
       "       [45.46551 , 88.55385 ],\n",
       "       [45.446766, 88.4095  ],\n",
       "       [45.42796 , 88.26616 ],\n",
       "       [45.40909 , 88.12375 ],\n",
       "       [45.39014 , 87.982185],\n",
       "       [45.371113, 87.84138 ],\n",
       "       [45.35198 , 87.70118 ],\n",
       "       [45.332745, 87.56155 ],\n",
       "       [45.313393, 87.42242 ],\n",
       "       [45.293922, 87.283714],\n",
       "       [45.274323, 87.145355],\n",
       "       [45.254578, 87.00726 ],\n",
       "       [45.23468 , 86.86936 ],\n",
       "       [45.21462 , 86.73156 ],\n",
       "       [45.19438 , 86.59379 ],\n",
       "       [45.173958, 86.45594 ],\n",
       "       [45.15333 , 86.317986],\n",
       "       [45.132492, 86.17982 ],\n",
       "       [45.111427, 86.04136 ],\n",
       "       [45.111427, 86.04136 ],\n",
       "       [45.01436 , 86.077705],\n",
       "       [44.918346, 86.11301 ],\n",
       "       [44.82123 , 86.14922 ],\n",
       "       [44.725216, 86.18425 ],\n",
       "       [44.62808 , 86.22028 ],\n",
       "       [44.532524, 86.26151 ],\n",
       "       [44.43643 , 86.29619 ],\n",
       "       [44.339275, 86.33215 ],\n",
       "       [44.243134, 86.366554],\n",
       "       [44.14596 , 86.402275],\n",
       "       [44.04986 , 86.43712 ],\n",
       "       [43.952637, 86.4724  ],\n",
       "       [43.856567, 86.506905],\n",
       "       [43.759415, 86.54237 ],\n",
       "       [43.663406, 86.57719 ],\n",
       "       [43.567425, 86.61765 ],\n",
       "       [43.47011 , 86.651886],\n",
       "       [43.37413 , 86.68732 ],\n",
       "       [43.27694 , 86.72217 ],\n",
       "       [43.18087 , 86.75649 ],\n",
       "       [43.083595, 86.790535],\n",
       "       [42.98739 , 86.82373 ],\n",
       "       [42.890064, 86.85772 ],\n",
       "       [42.793957, 86.891464],\n",
       "       [42.69661 , 86.92504 ],\n",
       "       [42.60036 , 86.9642  ],\n",
       "       [42.50407 , 86.99661 ],\n",
       "       [42.406643, 87.029594],\n",
       "       [42.310207, 87.06115 ],\n",
       "       [42.212814, 87.094604],\n",
       "       [42.11652 , 87.127266],\n",
       "       [42.019142, 87.16066 ],\n",
       "       [41.922836, 87.193146],\n",
       "       [41.825417, 87.22641 ],\n",
       "       [41.729057, 87.258705],\n",
       "       [41.63301 , 87.29732 ],\n",
       "       [41.53571 , 87.33139 ],\n",
       "       [41.43932 , 87.363045],\n",
       "       [41.341908, 87.39591 ],\n",
       "       [41.245453, 87.42716 ],\n",
       "       [41.245453, 87.42716 ],\n",
       "       [41.265133, 87.55731 ],\n",
       "       [41.28463 , 87.687386],\n",
       "       [41.30387 , 87.81662 ],\n",
       "       [41.32296 , 87.94602 ],\n",
       "       [41.34188 , 88.07524 ],\n",
       "       [41.360645, 88.20449 ],\n",
       "       [41.379265, 88.33382 ],\n",
       "       [41.397766, 88.46334 ],\n",
       "       [41.416157, 88.593185],\n",
       "       [41.434437, 88.72336 ],\n",
       "       [41.452618, 88.85394 ],\n",
       "       [41.470676, 88.98481 ],\n",
       "       [41.48863 , 89.116104],\n",
       "       [41.506596, 89.24854 ],\n",
       "       [41.524483, 89.381615],\n",
       "       [41.542297, 89.515396],\n",
       "       [41.560062, 89.650024],\n",
       "       [41.577755, 89.7854  ],\n",
       "       [41.595425, 89.921875],\n",
       "       [41.613075, 90.05952 ],\n",
       "       [41.63066 , 90.198044],\n",
       "       [41.648262, 90.338066],\n",
       "       [41.665874, 90.47959 ],\n",
       "       [41.68348 , 90.62255 ],\n",
       "       [41.701103, 90.76715 ],\n",
       "       [41.718803, 90.91393 ],\n",
       "       [41.736553, 91.062775],\n",
       "       [41.75431 , 91.213356],\n",
       "       [41.77205 , 91.36559 ],\n",
       "       [41.789875, 91.52037 ],\n",
       "       [41.807735, 91.67737 ],\n",
       "       [41.8257  , 91.83723 ],\n",
       "       [41.84374 , 91.999825],\n",
       "       [41.86191 , 92.16579 ],\n",
       "       [41.880154, 92.33469 ],\n",
       "       [41.89845 , 92.50652 ],\n",
       "       [41.91686 , 92.681946],\n",
       "       [41.93538 , 92.861115],\n",
       "       [41.954014, 93.044235],\n",
       "       [41.9728  , 93.23185 ]], dtype=float32)"
      ]
     },
     "execution_count": 142,
     "metadata": {},
     "output_type": "execute_result"
    }
   ],
   "source": [
    "xy\n"
   ]
  },
  {
   "cell_type": "code",
   "execution_count": 113,
   "metadata": {},
   "outputs": [
    {
     "data": {
      "text/plain": [
       "2870"
      ]
     },
     "execution_count": 113,
     "metadata": {},
     "output_type": "execute_result"
    }
   ],
   "source": [
    "col_ind = i\n",
    "col_ind"
   ]
  },
  {
   "cell_type": "code",
   "execution_count": 112,
   "metadata": {},
   "outputs": [
    {
     "data": {
      "text/plain": [
       "array([0, 0, 0, 0, 0, 0, 0, 0, 0, 0, 0, 0, 0, 0, 0, 0, 0, 0, 0, 0, 0, 0,\n",
       "       0, 0, 0, 0, 0, 0, 0, 0, 0, 0, 0, 0, 0, 0, 0, 0, 0, 0, 0, 0, 0, 0,\n",
       "       0, 0, 0, 0, 0, 0, 0, 0, 0, 0, 0, 0, 0, 0, 0, 0, 0, 0, 0, 0, 0, 0,\n",
       "       0, 0, 0, 0, 0, 0, 0, 0, 0, 0, 0, 0, 0, 0, 0, 0, 0, 0, 0, 0, 0, 0,\n",
       "       0, 0, 0, 0, 0, 0, 0, 0, 0, 0, 0, 0, 0, 0, 0, 0, 0, 0, 0, 0, 0, 0,\n",
       "       0, 0, 0, 0, 0, 0, 0, 0, 0, 0, 0, 0, 0, 0, 0, 0, 0, 0, 0, 0, 0, 0,\n",
       "       0, 0, 0, 0, 0, 0, 0, 0, 1, 1, 1, 1, 1, 1, 1, 1, 1, 1, 2, 1, 2, 2,\n",
       "       2, 2, 2, 2, 2, 2, 2, 2, 2, 2, 2, 2, 2, 2, 2, 2, 1, 2, 1, 1, 0, 0,\n",
       "       0, 0, 0, 0, 0, 0, 0, 0, 0, 0, 0, 0, 0, 0, 0, 0, 0, 0, 0, 2, 2, 2,\n",
       "       0, 0, 0, 0, 0, 0, 0, 0, 0, 0, 0, 0, 0, 0, 0, 0, 0, 0, 0, 0, 0, 0,\n",
       "       0, 0, 0, 0, 0, 0, 0, 0, 0, 0, 0, 0, 0, 0, 0, 0, 0, 0, 0, 0, 0, 0,\n",
       "       0, 0, 0, 0, 0, 0, 0, 0, 0, 0, 0, 0, 0, 0, 0, 0, 0, 0, 0, 0, 0, 0,\n",
       "       0, 0, 0, 0, 0, 0, 0, 0, 0, 0, 0, 0, 0, 0, 0, 0, 0, 0, 0, 0, 0, 0,\n",
       "       0, 0, 0, 0, 0, 0, 0, 0, 0, 0, 0, 0, 0, 0, 0, 0, 0, 0, 0, 0, 0, 0,\n",
       "       0, 0, 0, 0, 0, 0, 0, 0, 0, 0, 0, 0, 0, 0, 0, 2, 2, 2, 2, 2, 2, 0,\n",
       "       0, 2, 2, 2, 2, 2, 0, 2, 2, 2, 2, 2, 2, 2, 2, 2, 2, 2, 2, 2, 2, 2,\n",
       "       0, 0, 0, 2, 0, 2, 2, 2, 2, 2, 0, 0, 0, 0, 0, 2, 2, 2, 2, 2, 2, 2,\n",
       "       2, 2, 2, 2, 2, 2, 0, 0, 0, 0, 0, 2, 2, 2, 2, 2, 2, 2, 2, 2, 2, 2,\n",
       "       2, 2, 2, 2, 2, 2, 2, 2, 2, 2, 2, 3, 3, 3, 3, 3, 3, 3, 3, 3, 3, 2,\n",
       "       2, 3, 2, 2, 2, 2, 2, 2, 2, 2, 2, 2, 2, 2, 2, 2, 2, 2, 2, 2, 2, 2,\n",
       "       2], dtype=int32)"
      ]
     },
     "execution_count": 112,
     "metadata": {},
     "output_type": "execute_result"
    }
   ],
   "source": [
    "data.caliop_ss_11_data.variables[\"cloud_class\"][col_ind, :]"
   ]
  },
  {
   "cell_type": "code",
   "execution_count": 27,
   "metadata": {
    "collapsed": true
   },
   "outputs": [],
   "source": [
    "times = data.meta_data.variables[\"time\"][:]\n"
   ]
  },
  {
   "cell_type": "code",
   "execution_count": 47,
   "metadata": {},
   "outputs": [
    {
     "data": {
      "text/plain": [
       "OrderedDict([('time', <class 'netCDF4._netCDF4.Variable'>\n",
       "              float32 time(collocation)\n",
       "              unlimited dimensions: collocation\n",
       "              current shape = (1,)\n",
       "              filling on, default _FillValue of 9.969209968386869e+36 used),\n",
       "             ('lat', <class 'netCDF4._netCDF4.Variable'>\n",
       "              float32 lat(collocation)\n",
       "              unlimited dimensions: collocation\n",
       "              current shape = (1,)\n",
       "              filling on, default _FillValue of 9.969209968386869e+36 used),\n",
       "             ('lon', <class 'netCDF4._netCDF4.Variable'>\n",
       "              float32 lon(collocation)\n",
       "              unlimited dimensions: collocation\n",
       "              current shape = (1,)\n",
       "              filling on, default _FillValue of 9.969209968386869e+36 used),\n",
       "             ('d', <class 'netCDF4._netCDF4.Variable'>\n",
       "              float32 d(collocation)\n",
       "              unlimited dimensions: collocation\n",
       "              current shape = (1,)\n",
       "              filling on, default _FillValue of 9.969209968386869e+36 used)])"
      ]
     },
     "execution_count": 47,
     "metadata": {},
     "output_type": "execute_result"
    }
   ],
   "source": [
    "data.meta_data.variables"
   ]
  },
  {
   "cell_type": "code",
   "execution_count": 50,
   "metadata": {},
   "outputs": [
    {
     "data": {
      "text/plain": [
       "90102.07"
      ]
     },
     "execution_count": 50,
     "metadata": {},
     "output_type": "execute_result"
    }
   ],
   "source": [
    "times[0]"
   ]
  },
  {
   "cell_type": "code",
   "execution_count": 31,
   "metadata": {
    "collapsed": true
   },
   "outputs": [],
   "source": [
    "modis_data       = data.modis_data.variables[\"band_30\"]\n",
    "modis_ss_5_data  = data.modis_ss_5_data.variables[\"band_30\"]\n",
    "modis_ss_11_data  = data.modis_ss_11_data.variables[\"band_30\"]"
   ]
  },
  {
   "cell_type": "code",
   "execution_count": 43,
   "metadata": {},
   "outputs": [
    {
     "data": {
      "text/plain": [
       "<matplotlib.image.AxesImage at 0x7feeb18ab588>"
      ]
     },
     "execution_count": 43,
     "metadata": {},
     "output_type": "execute_result"
    },
    {
     "data": {
      "image/png": "[encoded data removed]",
      "text/plain": [
       "<matplotlib.figure.Figure at 0x7feeb16a3cc0>"
      ]
     },
     "metadata": {},
     "output_type": "display_data"
    }
   ],
   "source": [
    "from matplotlib.colors import Normalize\n",
    "f, axs = plt.subplots(1, 3, figsize = (15, 5))\n",
    "\n",
    "ind = -1 \n",
    "norm = Normalize(vmin = modis_ss_11_data[ind, :, :].min(),\n",
    "                 vmax = modis_ss_11_data[ind, :, :].max())\n",
    "\n",
    "axs[0].imshow(modis_data[ind, :, :], norm = norm)\n",
    "axs[1].imshow(modis_ss_5_data[ind, :, :], norm = norm)\n",
    "axs[2].imshow(modis_ss_11_data[ind, :, :], norm = norm)"
   ]
  },
  {
   "cell_type": "code",
   "execution_count": 28,
   "metadata": {},
   "outputs": [
    {
     "data": {
      "text/plain": [
       "array([90102.07], dtype=float32)"
      ]
     },
     "execution_count": 28,
     "metadata": {},
     "output_type": "execute_result"
    }
   ],
   "source": [
    "\n",
    "\n",
    "times"
   ]
  },
  {
   "cell_type": "code",
   "execution_count": 2,
   "metadata": {
    "collapsed": true
   },
   "outputs": [],
   "source": [
    "import os\n",
    "path = \"/home/simonpf/Dendrite/UserAreas/Simon/cloud_collocations/2009/001/\""
   ]
  },
  {
   "cell_type": "code",
   "execution_count": 3,
   "metadata": {
    "collapsed": true
   },
   "outputs": [],
   "source": [
    "modis_output = Dataset(os.path.join(path,\"modis_20.nc\"), \"r\")\n",
    "modis_data = np.zeros(modis_output[\"band_1\"].shape + (38,))\n",
    "for i in range(1, 39):\n",
    "    modis_data[:, :, :, i - 1] = modis_output[\"band_\" + str(i)][:, :, :]"
   ]
  },
  {
   "cell_type": "code",
   "execution_count": 12,
   "metadata": {
    "collapsed": true
   },
   "outputs": [],
   "source": [
    "modis_ss_5_output = Dataset(os.path.join(path,\"modis_20_ss_5.nc\"), \"r\")\n",
    "modis_ss_5_data = np.zeros(modis_ss_5_output[\"band_1\"].shape + (38,))\n",
    "for i in range(1, 39):\n",
    "    modis_ss_5_data[:, :, :, i - 1] = modis_ss_5_output[\"band_\" + str(i)][:, :, :]"
   ]
  },
  {
   "cell_type": "code",
   "execution_count": 13,
   "metadata": {},
   "outputs": [
    {
     "data": {
      "text/plain": [
       "<matplotlib.image.AxesImage at 0x7f2323cfc9e8>"
      ]
     },
     "execution_count": 13,
     "metadata": {},
     "output_type": "execute_result"
    },
    {
     "data": {
      "image/png": "[encoded data removed]",
      "text/plain": [
       "<matplotlib.figure.Figure at 0x7f232e687128>"
      ]
     },
     "metadata": {},
     "output_type": "display_data"
    },
    {
     "data": {
      "image/png": "[encoded data removed]",
      "text/plain": [
       "<matplotlib.figure.Figure at 0x7f232e687470>"
      ]
     },
     "metadata": {},
     "output_type": "display_data"
    }
   ],
   "source": [
    "plt.imshow(modis_ss_5_data[0, :, :, 31])\n",
    "plt.figure()\n",
    "plt.imshow(modis_data[0, :, :, 31])"
   ]
  },
  {
   "cell_type": "code",
   "execution_count": 16,
   "metadata": {
    "collapsed": true
   },
   "outputs": [],
   "source": [
    "caliop_output = Dataset(os.path.join(path, \"caliop_20.nc\"), \"r\")"
   ]
  },
  {
   "cell_type": "code",
   "execution_count": 24,
   "metadata": {},
   "outputs": [
    {
     "data": {
      "text/plain": [
       "array([1, 1, 1, 1, 2, 2, 3, 3, 3, 3, 3, 3, 3, 3, 3, 3, 3, 3, 3, 2, 2, 2,\n",
       "       2, 3, 3, 3, 3, 3, 3, 3, 3, 3, 3, 3, 3, 3, 2, 2, 2, 2, 2],\n",
       "      dtype=int32)"
      ]
     },
     "execution_count": 24,
     "metadata": {},
     "output_type": "execute_result"
    }
   ],
   "source": [
    "(caliop_output.variables[\"cloud_class\"][0] // 1024) % 8\n"
   ]
  },
  {
   "cell_type": "code",
   "execution_count": 17,
   "metadata": {},
   "outputs": [
    {
     "ename": "UnboundLocalError",
     "evalue": "local variable 'ax' referenced before assignment",
     "output_type": "error",
     "traceback": [
      "\u001b[0;31m---------------------------------------------------------------------------\u001b[0m",
      "\u001b[0;31mUnboundLocalError\u001b[0m                         Traceback (most recent call last)",
      "\u001b[0;32m<ipython-input-17-17ad595d3f37>\u001b[0m in \u001b[0;36m<module>\u001b[0;34m()\u001b[0m\n\u001b[1;32m      2\u001b[0m \u001b[0;32mfor\u001b[0m \u001b[0mi\u001b[0m \u001b[0;32min\u001b[0m \u001b[0mrange\u001b[0m\u001b[0;34m(\u001b[0m\u001b[0;36m4\u001b[0m\u001b[0;34m,\u001b[0m \u001b[0;36m10\u001b[0m\u001b[0;34m)\u001b[0m\u001b[0;34m:\u001b[0m\u001b[0;34m\u001b[0m\u001b[0m\n\u001b[1;32m      3\u001b[0m     \u001b[0mplt\u001b[0m\u001b[0;34m.\u001b[0m\u001b[0mfigure\u001b[0m\u001b[0;34m(\u001b[0m\u001b[0;34m)\u001b[0m\u001b[0;34m\u001b[0m\u001b[0m\n\u001b[0;32m----> 4\u001b[0;31m     \u001b[0mimg\u001b[0m \u001b[0;34m=\u001b[0m \u001b[0mplot_composite\u001b[0m\u001b[0;34m(\u001b[0m\u001b[0mmodis_output\u001b[0m\u001b[0;34m,\u001b[0m \u001b[0mi\u001b[0m\u001b[0;34m,\u001b[0m \u001b[0mbands\u001b[0m \u001b[0;34m=\u001b[0m \u001b[0;34m[\u001b[0m\u001b[0;36m25\u001b[0m\u001b[0;34m,\u001b[0m \u001b[0;36m36\u001b[0m\u001b[0;34m,\u001b[0m \u001b[0;36m27\u001b[0m\u001b[0;34m]\u001b[0m\u001b[0;34m)\u001b[0m\u001b[0;34m\u001b[0m\u001b[0m\n\u001b[0m\u001b[1;32m      5\u001b[0m     \u001b[0mplot_swath_cloud_mask\u001b[0m\u001b[0;34m(\u001b[0m\u001b[0mcaliop_output\u001b[0m\u001b[0;34m,\u001b[0m \u001b[0mi\u001b[0m\u001b[0;34m)\u001b[0m\u001b[0;34m\u001b[0m\u001b[0m\n",
      "\u001b[0;32m/home/simonpf/src/cloud_collocations/cloud_collocations/plots.py\u001b[0m in \u001b[0;36mplot_composite\u001b[0;34m(modis_data, i, bands, figure, subplot)\u001b[0m\n\u001b[1;32m     38\u001b[0m \u001b[0;34m\u001b[0m\u001b[0m\n\u001b[1;32m     39\u001b[0m \u001b[0;34m\u001b[0m\u001b[0m\n\u001b[0;32m---> 40\u001b[0;31m     \u001b[0;32mif\u001b[0m \u001b[0max\u001b[0m \u001b[0;32mis\u001b[0m \u001b[0;32mNone\u001b[0m\u001b[0;34m:\u001b[0m\u001b[0;34m\u001b[0m\u001b[0m\n\u001b[0m\u001b[1;32m     41\u001b[0m         \u001b[0max\u001b[0m \u001b[0;34m=\u001b[0m \u001b[0mplt\u001b[0m\u001b[0;34m.\u001b[0m\u001b[0mgca\u001b[0m\u001b[0;34m(\u001b[0m\u001b[0;34m)\u001b[0m\u001b[0;34m\u001b[0m\u001b[0m\n\u001b[1;32m     42\u001b[0m \u001b[0;34m\u001b[0m\u001b[0m\n",
      "\u001b[0;31mUnboundLocalError\u001b[0m: local variable 'ax' referenced before assignment"
     ]
    },
    {
     "data": {
      "text/plain": [
       "<matplotlib.figure.Figure at 0x7f2323c59da0>"
      ]
     },
     "metadata": {},
     "output_type": "display_data"
    }
   ],
   "source": [
    "from cloud_collocations.plots import plot_composite, plot_swath_cloud_mask\n",
    "for i in range(4, 10):\n",
    "    plt.figure()\n",
    "    img = plot_composite(modis_output, i, bands = [25, 36, 27])\n",
    "    plot_swath_cloud_mask(caliop_output, i)\n"
   ]
  },
  {
   "cell_type": "markdown",
   "metadata": {},
   "source": [
    "### Cloud types"
   ]
  },
  {
   "cell_type": "code",
   "execution_count": 9,
   "metadata": {
    "collapsed": true
   },
   "outputs": [],
   "source": [
    "cloud_classes = caliop_output[\"cloud_class\"][:]"
   ]
  },
  {
   "cell_type": "code",
   "execution_count": 11,
   "metadata": {},
   "outputs": [
    {
     "data": {
      "text/plain": [
       "(344, 101)"
      ]
     },
     "execution_count": 11,
     "metadata": {},
     "output_type": "execute_result"
    }
   ],
   "source": [
    "cloud_classes[0, :241189sp\n",
    "             ]"
   ]
  },
  {
   "cell_type": "code",
   "execution_count": 10,
   "metadata": {},
   "outputs": [
    {
     "data": {
      "text/plain": [
       "(array([14413.,     0.,     0.,     0.,     0.,     0.,     0.,     0.,\n",
       "         7957., 12374.]),\n",
       " array([1.00000e+00, 2.04510e+03, 4.08920e+03, 6.13330e+03, 8.17740e+03,\n",
       "        1.02215e+04, 1.22656e+04, 1.43097e+04, 1.63538e+04, 1.83979e+04,\n",
       "        2.04420e+04]),\n",
       " <a list of 10 Patch objects>)"
      ]
     },
     "execution_count": 10,
     "metadata": {},
     "output_type": "execute_result"
    },
    {
     "data": {
      "image/png": "[encoded data removed]",
      "text/plain": [
       "<matplotlib.figure.Figure at 0x7fccdc7770f0>"
      ]
     },
     "metadata": {},
     "output_type": "display_data"
    }
   ],
   "source": [
    "plt.hist(cloud_classes.ravel())"
   ]
  },
  {
   "cell_type": "code",
   "execution_count": 110,
   "metadata": {},
   "outputs": [
    {
     "data": {
      "text/plain": [
       "array([[1.4620e-03, 4.6600e-04, 1.3866e-02, 1.0000e+00],\n",
       "       [1.4620e-03, 4.6600e-04, 1.3866e-02, 1.0000e+00],\n",
       "       [1.4620e-03, 4.6600e-04, 1.3866e-02, 1.0000e+00],\n",
       "       ...,\n",
       "       [1.4620e-03, 4.6600e-04, 1.3866e-02, 1.0000e+00],\n",
       "       [1.4620e-03, 4.6600e-04, 1.3866e-02, 1.0000e+00],\n",
       "       [1.4620e-03, 4.6600e-04, 1.3866e-02, 1.0000e+00]])"
      ]
     },
     "execution_count": 110,
     "metadata": {},
     "output_type": "execute_result"
    }
   ],
   "source": [
    "img.get_facecolors()"
   ]
  },
  {
   "cell_type": "code",
   "execution_count": 32,
   "metadata": {},
   "outputs": [
    {
     "data": {
      "text/plain": [
       "array([[0.14554498, 0.14402221, 0.14481179, ..., 0.10426148, 0.10189275,\n",
       "        0.10268233],\n",
       "       [0.14610896, 0.14610896, 0.1445298 , ..., 0.1007084 , 0.09991882,\n",
       "        0.09196667],\n",
       "       [0.14689852, 0.14847767, 0.14610896, ..., 0.10476907, 0.10713779,\n",
       "        0.09698611],\n",
       "       ...,\n",
       "       [0.12817432, 0.14599615, 0.17464644, ..., 0.08711643, 0.08632685,\n",
       "        0.08243538],\n",
       "       [0.12321128, 0.13561888, 0.15891135, ..., 0.08440931, 0.07972826,\n",
       "        0.07741594],\n",
       "       [0.12755394, 0.13454732, 0.14622174, ..., 0.0846913 , 0.0815894 ,\n",
       "        0.08001025]])"
      ]
     },
     "execution_count": 32,
     "metadata": {},
     "output_type": "execute_result"
    }
   ],
   "source": [
    "modis_data[340, :, :, 26]"
   ]
  },
  {
   "cell_type": "code",
   "execution_count": null,
   "metadata": {
    "collapsed": true
   },
   "outputs": [],
   "source": []
  }
 ],
 "metadata": {
  "kernelspec": {
   "display_name": "Python 3",
   "language": "python",
   "name": "python3"
  }
 },
 "nbformat": 4,
 "nbformat_minor": 2
}
