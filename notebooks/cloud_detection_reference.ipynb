{
 "cells": [
  {
   "cell_type": "markdown",
   "metadata": {},
   "source": [
    "This notebook train reference models wich only take a $5 \\times 5$ neighborhood as input and consist of only fully connected layers. One model is trained for each subsampling level."
   ]
  },
  {
   "cell_type": "code",
   "execution_count": 2,
   "metadata": {},
   "outputs": [
    {
     "name": "stdout",
     "output_type": "stream",
     "text": [
      "The autoreload extension is already loaded. To reload it, use:\n",
      "  %reload_ext autoreload\n"
     ]
    }
   ],
   "source": [
    "%load_ext autoreload\n",
    "%autoreload 2\n",
    "%matplotlib inline\n",
    "import matplotlib.pyplot as plt\n",
    "import numpy as np\n",
    "from netCDF4 import Dataset\n",
    "\n",
    "import sys\n",
    "sys.path.append(\"..\")\n",
    "\n",
    "plt.style.use(\"~/.config/matplotlib/notebook\")"
   ]
  },
  {
   "cell_type": "markdown",
   "metadata": {},
   "source": [
    "# Original data"
   ]
  },
  {
   "cell_type": "code",
   "execution_count": 3,
   "metadata": {
    "collapsed": true
   },
   "outputs": [],
   "source": [
    "training_data = Dataset(\"../data/training_data_20.nc\")\n",
    "x = training_data.variables[\"input\"][:]\n",
    "y = training_data.variables[\"cloud_class\"][:]"
   ]
  },
  {
   "cell_type": "code",
   "execution_count": 5,
   "metadata": {
    "collapsed": true
   },
   "outputs": [],
   "source": [
    "inds = np.where(np.all(np.logical_not(np.isnan(x)), axis = (1, 2, 3)))[0]\n",
    "x = x[inds, :, :, :]\n",
    "y = y[inds]\n",
    "y = np.minimum(y, 1.0)"
   ]
  },
  {
   "cell_type": "code",
   "execution_count": 7,
   "metadata": {},
   "outputs": [
    {
     "name": "stderr",
     "output_type": "stream",
     "text": [
      "/home/simonpf/build/anaconda/lib/python3.6/site-packages/h5py/__init__.py:34: FutureWarning: Conversion of the second argument of issubdtype from `float` to `np.floating` is deprecated. In future, it will be treated as `np.float64 == np.dtype(float).type`.\n",
      "  from ._conv import register_converters as _register_converters\n",
      "Using TensorFlow backend.\n"
     ]
    }
   ],
   "source": [
    "from cloud_colocations.cloud_net import CloudNetSimple\n",
    "model = CloudNetSimple(2, \"detection\", 2, layers = 0, dense_layers = 4)"
   ]
  },
  {
   "cell_type": "code",
   "execution_count": 8,
   "metadata": {},
   "outputs": [
    {
     "name": "stdout",
     "output_type": "stream",
     "text": [
      "Train on 130243 samples, validate on 14472 samples\n",
      "Epoch 1/100\n",
      "130243/130243 [==============================] - 2s - loss: 0.6561 - acc: 0.6162 - val_loss: 0.6467 - val_acc: 0.6239\n",
      "Epoch 2/100\n",
      "130243/130243 [==============================] - 1s - loss: 0.6481 - acc: 0.6268 - val_loss: 0.6415 - val_acc: 0.6286\n",
      "Epoch 3/100\n",
      "130243/130243 [==============================] - 8s - loss: 0.6425 - acc: 0.6312 - val_loss: 0.6354 - val_acc: 0.6359\n",
      "Epoch 4/100\n",
      "130243/130243 [==============================] - 8s - loss: 0.6368 - acc: 0.6353 - val_loss: 0.6342 - val_acc: 0.6417\n",
      "Epoch 5/100\n",
      "130243/130243 [==============================] - 5s - loss: 0.6312 - acc: 0.6397 - val_loss: 0.6243 - val_acc: 0.6559\n",
      "Epoch 6/100\n",
      "130243/130243 [==============================] - 2s - loss: 0.6267 - acc: 0.6474 - val_loss: 0.6132 - val_acc: 0.6644\n",
      "Epoch 7/100\n",
      "130243/130243 [==============================] - 2s - loss: 0.6225 - acc: 0.6508 - val_loss: 0.6128 - val_acc: 0.6656\n",
      "Epoch 8/100\n",
      "130243/130243 [==============================] - 2s - loss: 0.6197 - acc: 0.6535 - val_loss: 0.6220 - val_acc: 0.6426\n",
      "Epoch 9/100\n",
      "130243/130243 [==============================] - 2s - loss: 0.6176 - acc: 0.6537 - val_loss: 0.5998 - val_acc: 0.6721\n",
      "Epoch 10/100\n",
      "130243/130243 [==============================] - 2s - loss: 0.6175 - acc: 0.6542 - val_loss: 0.5989 - val_acc: 0.6694\n",
      "Epoch 11/100\n",
      "130243/130243 [==============================] - 1s - loss: 0.6150 - acc: 0.6559 - val_loss: 0.6048 - val_acc: 0.6589\n",
      "Epoch 12/100\n",
      "126720/130243 [============================>.] - ETA: 0s - loss: 0.6152 - acc: 0.6558\n",
      " Reduced learning rate to 0.005\n",
      "130243/130243 [==============================] - 1s - loss: 0.6154 - acc: 0.6556 - val_loss: 0.5991 - val_acc: 0.6684\n",
      "Epoch 13/100\n",
      "130243/130243 [==============================] - 1s - loss: 0.6126 - acc: 0.6596 - val_loss: 0.6028 - val_acc: 0.6585\n",
      "Epoch 14/100\n",
      "126464/130243 [============================>.] - ETA: 0s - loss: 0.6122 - acc: 0.6588\n",
      " Reduced learning rate to 0.0025\n",
      "130243/130243 [==============================] - 1s - loss: 0.6120 - acc: 0.6587 - val_loss: 0.6002 - val_acc: 0.6609\n",
      "Epoch 15/100\n",
      "130243/130243 [==============================] - 1s - loss: 0.6122 - acc: 0.6584 - val_loss: 0.6031 - val_acc: 0.6562\n",
      "Epoch 16/100\n",
      "126720/130243 [============================>.] - ETA: 0s - loss: 0.6121 - acc: 0.6594\n",
      " Reduced learning rate to 0.00125\n",
      "130243/130243 [==============================] - 1s - loss: 0.6117 - acc: 0.6599 - val_loss: 0.6025 - val_acc: 0.6549\n",
      "Epoch 17/100\n",
      "130243/130243 [==============================] - 1s - loss: 0.6113 - acc: 0.6606 - val_loss: 0.6010 - val_acc: 0.6593\n",
      "Epoch 18/100\n",
      "126720/130243 [============================>.] - ETA: 0s - loss: 0.6106 - acc: 0.6604\n",
      " Reduced learning rate to 0.000625\n",
      "130243/130243 [==============================] - 1s - loss: 0.6108 - acc: 0.6603 - val_loss: 0.6007 - val_acc: 0.6575\n",
      "Epoch 19/100\n",
      "130243/130243 [==============================] - 1s - loss: 0.6105 - acc: 0.6604 - val_loss: 0.6021 - val_acc: 0.6564\n",
      "Epoch 20/100\n",
      "126720/130243 [============================>.] - ETA: 0s - loss: 0.6118 - acc: 0.6594\n",
      " Reduced learning rate to 0.0003125\n",
      "130243/130243 [==============================] - 1s - loss: 0.6119 - acc: 0.6593 - val_loss: 0.6017 - val_acc: 0.6572\n",
      "Epoch 21/100\n",
      "130243/130243 [==============================] - 1s - loss: 0.6106 - acc: 0.6603 - val_loss: 0.6008 - val_acc: 0.6583\n",
      "Epoch 22/100\n",
      "126464/130243 [============================>.] - ETA: 0s - loss: 0.6106 - acc: 0.6610\n",
      " Reduced learning rate to 0.00015625\n",
      "130243/130243 [==============================] - 1s - loss: 0.6107 - acc: 0.6609 - val_loss: 0.6007 - val_acc: 0.6584\n",
      "Epoch 23/100\n",
      "130243/130243 [==============================] - 1s - loss: 0.6116 - acc: 0.6597 - val_loss: 0.6003 - val_acc: 0.6587\n",
      "Epoch 24/100\n",
      "126720/130243 [============================>.] - ETA: 0s - loss: 0.6106 - acc: 0.6612\n",
      " Reduced learning rate to 7.8125e-05\n",
      "130243/130243 [==============================] - 1s - loss: 0.6107 - acc: 0.6612 - val_loss: 0.6003 - val_acc: 0.6588\n"
     ]
    }
   ],
   "source": [
    "model.fit(x, y.reshape(-1, 1))"
   ]
  },
  {
   "cell_type": "markdown",
   "metadata": {},
   "source": [
    "# Subsampling 5\n",
    "## Load the training data"
   ]
  },
  {
   "cell_type": "code",
   "execution_count": 19,
   "metadata": {
    "collapsed": true
   },
   "outputs": [],
   "source": [
    "training_data = Dataset(\"../data/training_data_ss_5_20.nc\")\n",
    "x = training_data.variables[\"input\"][:]\n",
    "y = training_data.variables[\"cloud_class\"][:]"
   ]
  },
  {
   "cell_type": "code",
   "execution_count": 20,
   "metadata": {
    "collapsed": true
   },
   "outputs": [],
   "source": [
    "inds = np.where(np.all(np.logical_not(np.isnan(x)), axis = (1, 2, 3)))[0]\n",
    "x = x[inds, :, :, :]\n",
    "y = y[inds]\n",
    "y = np.minimum(y, 1.0)"
   ]
  },
  {
   "cell_type": "code",
   "execution_count": 21,
   "metadata": {
    "collapsed": true
   },
   "outputs": [],
   "source": [
    "from cloud_colocations.cloud_net import CloudNetSimple\n",
    "model_ss_5 = CloudNetSimple(2, \"detection\", 2, layers = 0, dense_layers = 4)"
   ]
  },
  {
   "cell_type": "code",
   "execution_count": 12,
   "metadata": {},
   "outputs": [
    {
     "name": "stdout",
     "output_type": "stream",
     "text": [
      "Train on 130211 samples, validate on 14468 samples\n",
      "Epoch 1/100\n",
      "130211/130211 [==============================] - 1s - loss: 0.6294 - acc: 0.6440 - val_loss: 0.6191 - val_acc: 0.6547\n",
      "Epoch 2/100\n",
      "130211/130211 [==============================] - 1s - loss: 0.5922 - acc: 0.6778 - val_loss: 0.5937 - val_acc: 0.6885\n",
      "Epoch 3/100\n",
      "130211/130211 [==============================] - 1s - loss: 0.5771 - acc: 0.6976 - val_loss: 0.5736 - val_acc: 0.6816\n",
      "Epoch 4/100\n",
      "130211/130211 [==============================] - 1s - loss: 0.5669 - acc: 0.7023 - val_loss: 0.5640 - val_acc: 0.6892\n",
      "Epoch 5/100\n",
      "130211/130211 [==============================] - 1s - loss: 0.5592 - acc: 0.7069 - val_loss: 0.5684 - val_acc: 0.6839\n",
      "Epoch 6/100\n",
      "130211/130211 [==============================] - 1s - loss: 0.5560 - acc: 0.7092 - val_loss: 0.5553 - val_acc: 0.6987\n",
      "Epoch 7/100\n",
      "130211/130211 [==============================] - 1s - loss: 0.5534 - acc: 0.7108 - val_loss: 0.5462 - val_acc: 0.7061\n",
      "Epoch 8/100\n",
      "130211/130211 [==============================] - 1s - loss: 0.5518 - acc: 0.7123 - val_loss: 0.5546 - val_acc: 0.7019\n",
      "Epoch 9/100\n",
      "130211/130211 [==============================] - 1s - loss: 0.5493 - acc: 0.7135 - val_loss: 0.5424 - val_acc: 0.7093\n",
      "Epoch 10/100\n",
      "130211/130211 [==============================] - 1s - loss: 0.5486 - acc: 0.7143 - val_loss: 0.5437 - val_acc: 0.7074\n",
      "Epoch 11/100\n",
      "126208/130211 [============================>.] - ETA: 0s - loss: 0.5470 - acc: 0.7165\n",
      " Reduced learning rate to 0.005\n",
      "130211/130211 [==============================] - 1s - loss: 0.5468 - acc: 0.7166 - val_loss: 0.5562 - val_acc: 0.6989\n",
      "Epoch 12/100\n",
      "130211/130211 [==============================] - 1s - loss: 0.5446 - acc: 0.7174 - val_loss: 0.5423 - val_acc: 0.7086\n",
      "Epoch 13/100\n",
      "130211/130211 [==============================] - 1s - loss: 0.5439 - acc: 0.7177 - val_loss: 0.5423 - val_acc: 0.7095\n",
      "Epoch 14/100\n",
      "130211/130211 [==============================] - 1s - loss: 0.5434 - acc: 0.7181 - val_loss: 0.5407 - val_acc: 0.7080\n",
      "Epoch 15/100\n",
      "130211/130211 [==============================] - 1s - loss: 0.5435 - acc: 0.7183 - val_loss: 0.5519 - val_acc: 0.7018\n",
      "Epoch 16/100\n",
      "126464/130211 [============================>.] - ETA: 0s - loss: 0.5427 - acc: 0.7169\n",
      " Reduced learning rate to 0.0025\n",
      "130211/130211 [==============================] - 1s - loss: 0.5425 - acc: 0.7173 - val_loss: 0.5427 - val_acc: 0.7096\n",
      "Epoch 17/100\n",
      "130211/130211 [==============================] - 1s - loss: 0.5411 - acc: 0.7184 - val_loss: 0.5437 - val_acc: 0.7099\n",
      "Epoch 18/100\n",
      "130211/130211 [==============================] - 1s - loss: 0.5422 - acc: 0.7179 - val_loss: 0.5382 - val_acc: 0.7128\n",
      "Epoch 19/100\n",
      "130211/130211 [==============================] - 1s - loss: 0.5402 - acc: 0.7192 - val_loss: 0.5337 - val_acc: 0.7141\n",
      "Epoch 20/100\n",
      "130211/130211 [==============================] - 1s - loss: 0.5408 - acc: 0.7192 - val_loss: 0.5379 - val_acc: 0.7137\n",
      "Epoch 21/100\n",
      "130211/130211 [==============================] - 1s - loss: 0.5398 - acc: 0.7201 - val_loss: 0.5327 - val_acc: 0.7169\n",
      "Epoch 22/100\n",
      "130211/130211 [==============================] - 1s - loss: 0.5401 - acc: 0.7197 - val_loss: 0.5369 - val_acc: 0.7152\n",
      "Epoch 23/100\n",
      "126464/130211 [============================>.] - ETA: 0s - loss: 0.5397 - acc: 0.7202\n",
      " Reduced learning rate to 0.00125\n",
      "130211/130211 [==============================] - 1s - loss: 0.5397 - acc: 0.7200 - val_loss: 0.5386 - val_acc: 0.7141\n",
      "Epoch 24/100\n",
      "130211/130211 [==============================] - 1s - loss: 0.5394 - acc: 0.7204 - val_loss: 0.5349 - val_acc: 0.7155\n",
      "Epoch 25/100\n",
      "126720/130211 [============================>.] - ETA: 0s - loss: 0.5389 - acc: 0.7209\n",
      " Reduced learning rate to 0.000625\n",
      "130211/130211 [==============================] - 1s - loss: 0.5385 - acc: 0.7211 - val_loss: 0.5349 - val_acc: 0.7157\n",
      "Epoch 26/100\n",
      "130211/130211 [==============================] - 8s - loss: 0.5397 - acc: 0.7205 - val_loss: 0.5363 - val_acc: 0.7149\n",
      "Epoch 27/100\n",
      "128768/130211 [============================>.] - ETA: 0s - loss: 0.5390 - acc: 0.7203\n",
      " Reduced learning rate to 0.0003125\n",
      "130211/130211 [==============================] - 2s - loss: 0.5389 - acc: 0.7204 - val_loss: 0.5329 - val_acc: 0.7175\n",
      "Epoch 28/100\n",
      "130211/130211 [==============================] - 2s - loss: 0.5381 - acc: 0.7200 - val_loss: 0.5344 - val_acc: 0.7163\n",
      "Epoch 29/100\n",
      "126720/130211 [============================>.] - ETA: 0s - loss: 0.5379 - acc: 0.7207\n",
      " Reduced learning rate to 0.00015625\n",
      "130211/130211 [==============================] - 1s - loss: 0.5379 - acc: 0.7205 - val_loss: 0.5352 - val_acc: 0.7156\n",
      "Epoch 30/100\n",
      "130211/130211 [==============================] - 1s - loss: 0.5383 - acc: 0.7196 - val_loss: 0.5348 - val_acc: 0.7161\n",
      "Epoch 31/100\n",
      "126720/130211 [============================>.] - ETA: 0s - loss: 0.5386 - acc: 0.7199\n",
      " Reduced learning rate to 7.8125e-05\n",
      "130211/130211 [==============================] - 1s - loss: 0.5385 - acc: 0.7200 - val_loss: 0.5354 - val_acc: 0.7155\n"
     ]
    }
   ],
   "source": [
    "model_ss_5.fit(x, y.reshape(-1, 1))"
   ]
  },
  {
   "cell_type": "code",
   "execution_count": 13,
   "metadata": {
    "collapsed": true
   },
   "outputs": [],
   "source": [
    "model_ss_5.save(\"../models/cloud_detection_reference_ss_5\")"
   ]
  },
  {
   "cell_type": "markdown",
   "metadata": {},
   "source": [
    "# Subsampling 11\n",
    "## Load the training data"
   ]
  },
  {
   "cell_type": "code",
   "execution_count": 14,
   "metadata": {
    "collapsed": true
   },
   "outputs": [],
   "source": [
    "training_data = Dataset(\"../data/training_data_ss_11_20.nc\")\n",
    "x = training_data.variables[\"input\"][:]\n",
    "y = training_data.variables[\"cloud_class\"][:]"
   ]
  },
  {
   "cell_type": "code",
   "execution_count": 15,
   "metadata": {
    "collapsed": true
   },
   "outputs": [],
   "source": [
    "inds = np.where(np.all(np.logical_not(np.isnan(x)), axis = (1, 2, 3)))[0]\n",
    "x = x[inds, :, :, :]\n",
    "y = y[inds]\n",
    "y = np.minimum(y, 1.0)"
   ]
  },
  {
   "cell_type": "markdown",
   "metadata": {},
   "source": [
    "## Create a model"
   ]
  },
  {
   "cell_type": "code",
   "execution_count": 16,
   "metadata": {},
   "outputs": [],
   "source": [
    "from cloud_colocations.cloud_net import CloudNetSimple\n",
    "model_ss_11 = CloudNetSimple(5, \"detection\", 2, layers = 0, dense_layers = 4)"
   ]
  },
  {
   "cell_type": "code",
   "execution_count": 17,
   "metadata": {},
   "outputs": [
    {
     "name": "stdout",
     "output_type": "stream",
     "text": [
      "Train on 130112 samples, validate on 14457 samples\n",
      "Epoch 1/100\n",
      "130112/130112 [==============================] - 1s - loss: 0.5973 - acc: 0.6662 - val_loss: 0.5743 - val_acc: 0.6780\n",
      "Epoch 2/100\n",
      "130112/130112 [==============================] - 1s - loss: 0.5618 - acc: 0.6998 - val_loss: 0.5693 - val_acc: 0.6659\n",
      "Epoch 3/100\n",
      "130112/130112 [==============================] - 1s - loss: 0.5505 - acc: 0.7090 - val_loss: 0.5679 - val_acc: 0.6656\n",
      "Epoch 4/100\n",
      "130112/130112 [==============================] - 1s - loss: 0.5384 - acc: 0.7154 - val_loss: 0.5419 - val_acc: 0.6993\n",
      "Epoch 5/100\n",
      "130112/130112 [==============================] - 1s - loss: 0.5310 - acc: 0.7210 - val_loss: 0.5481 - val_acc: 0.6980\n",
      "Epoch 6/100\n",
      "126720/130112 [============================>.] - ETA: 0s - loss: 0.5283 - acc: 0.7237\n",
      " Reduced learning rate to 0.005\n",
      "130112/130112 [==============================] - 1s - loss: 0.5281 - acc: 0.7238 - val_loss: 0.5673 - val_acc: 0.6813\n",
      "Epoch 7/100\n",
      "130112/130112 [==============================] - 1s - loss: 0.5219 - acc: 0.7274 - val_loss: 0.5447 - val_acc: 0.6972\n",
      "Epoch 8/100\n",
      "127232/130112 [============================>.] - ETA: 0s - loss: 0.5201 - acc: 0.7279\n",
      " Reduced learning rate to 0.0025\n",
      "130112/130112 [==============================] - 1s - loss: 0.5201 - acc: 0.7278 - val_loss: 0.5485 - val_acc: 0.7005\n",
      "Epoch 9/100\n",
      "130112/130112 [==============================] - 1s - loss: 0.5183 - acc: 0.7283 - val_loss: 0.5488 - val_acc: 0.7022\n",
      "Epoch 10/100\n",
      "126976/130112 [============================>.] - ETA: 0s - loss: 0.5170 - acc: 0.7307\n",
      " Reduced learning rate to 0.00125\n",
      "130112/130112 [==============================] - 1s - loss: 0.5170 - acc: 0.7305 - val_loss: 0.5510 - val_acc: 0.7019\n",
      "Epoch 11/100\n",
      "130112/130112 [==============================] - 1s - loss: 0.5165 - acc: 0.7307 - val_loss: 0.5500 - val_acc: 0.7026\n",
      "Epoch 12/100\n",
      "127232/130112 [============================>.] - ETA: 0s - loss: 0.5152 - acc: 0.7309\n",
      " Reduced learning rate to 0.000625\n",
      "130112/130112 [==============================] - 1s - loss: 0.5150 - acc: 0.7312 - val_loss: 0.5489 - val_acc: 0.7025\n",
      "Epoch 13/100\n",
      "130112/130112 [==============================] - 1s - loss: 0.5147 - acc: 0.7320 - val_loss: 0.5477 - val_acc: 0.7028\n",
      "Epoch 14/100\n",
      "127232/130112 [============================>.] - ETA: 0s - loss: 0.5147 - acc: 0.7320\n",
      " Reduced learning rate to 0.0003125\n",
      "130112/130112 [==============================] - 1s - loss: 0.5148 - acc: 0.7321 - val_loss: 0.5506 - val_acc: 0.7026\n",
      "Epoch 15/100\n",
      "130112/130112 [==============================] - 1s - loss: 0.5143 - acc: 0.7323 - val_loss: 0.5506 - val_acc: 0.7013\n",
      "Epoch 16/100\n",
      "126976/130112 [============================>.] - ETA: 0s - loss: 0.5142 - acc: 0.7311\n",
      " Reduced learning rate to 0.00015625\n",
      "130112/130112 [==============================] - 1s - loss: 0.5144 - acc: 0.7312 - val_loss: 0.5494 - val_acc: 0.7033\n",
      "Epoch 17/100\n",
      "130112/130112 [==============================] - 1s - loss: 0.5140 - acc: 0.7316 - val_loss: 0.5498 - val_acc: 0.7029\n",
      "Epoch 18/100\n",
      "126976/130112 [============================>.] - ETA: 0s - loss: 0.5136 - acc: 0.7330\n",
      " Reduced learning rate to 7.8125e-05\n",
      "130112/130112 [==============================] - 1s - loss: 0.5138 - acc: 0.7328 - val_loss: 0.5518 - val_acc: 0.7017\n"
     ]
    }
   ],
   "source": [
    "model_ss_11.fit(x, y.reshape(-1, 1))"
   ]
  },
  {
   "cell_type": "code",
   "execution_count": 18,
   "metadata": {
    "collapsed": true
   },
   "outputs": [],
   "source": [
    "model_ss_11.save(\"../models/cloud_detection_reference_ss_11\")"
   ]
  }
 ],
 "metadata": {
  "kernelspec": {
   "display_name": "Python 3",
   "language": "python",
   "name": "python3"
  },
  "language_info": {
   "codemirror_mode": {
    "name": "ipython",
    "version": 3
   },
   "file_extension": ".py",
   "mimetype": "text/x-python",
   "name": "python",
   "nbconvert_exporter": "python",
   "pygments_lexer": "ipython3",
   "version": "3.6.1"
  }
 },
 "nbformat": 4,
 "nbformat_minor": 2
}
