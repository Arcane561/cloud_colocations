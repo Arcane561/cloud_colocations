{
 "cells": [
  {
   "cell_type": "code",
   "execution_count": 1,
   "metadata": {
    "collapsed": true
   },
   "outputs": [],
   "source": [
    "%load_ext autoreload\n",
    "%autoreload 2\n",
    "%matplotlib inline\n",
    "import matplotlib.pyplot as plt\n",
    "import numpy as np\n",
    "from netCDF4 import Dataset\n",
    "\n",
    "import sys\n",
    "sys.path.append(\"..\")\n",
    "\n",
    "plt.style.use(\"~/.config/matplotlib/notebook\")"
   ]
  },
  {
   "cell_type": "markdown",
   "metadata": {},
   "source": [
    "# Original data\n"
   ]
  },
  {
   "cell_type": "code",
   "execution_count": 2,
   "metadata": {
    "collapsed": true
   },
   "outputs": [],
   "source": [
    "training_data = Dataset(\"../data/training_data_20.nc\")\n",
    "x = training_data.variables[\"input\"][:]\n",
    "y = training_data.variables[\"cloud_class\"][:]"
   ]
  },
  {
   "cell_type": "code",
   "execution_count": 3,
   "metadata": {
    "collapsed": true
   },
   "outputs": [],
   "source": [
    "inds = np.where(np.all(np.logical_not(np.isnan(x)), axis = (1, 2, 3)))[0]\n",
    "x = x[inds, :, :, :]\n",
    "y = y[inds]\n",
    "y = np.minimum(y, 1.0)"
   ]
  },
  {
   "cell_type": "code",
   "execution_count": null,
   "metadata": {},
   "outputs": [
    {
     "name": "stderr",
     "output_type": "stream",
     "text": [
      "/home/simonpf/build/anaconda/lib/python3.6/site-packages/h5py/__init__.py:34: FutureWarning: Conversion of the second argument of issubdtype from `float` to `np.floating` is deprecated. In future, it will be treated as `np.float64 == np.dtype(float).type`.\n",
      "  from ._conv import register_converters as _register_converters\n",
      "Using TensorFlow backend.\n"
     ]
    },
    {
     "name": "stdout",
     "output_type": "stream",
     "text": [
      "19\n",
      "7\n",
      "5\n",
      "3\n"
     ]
    }
   ],
   "source": [
    "from cloud_colocations.cloud_net import CloudNetSimple\n",
    "model = CloudNetSimple(10, \"detection\", 2, layers = 4, dense_layers = 2)"
   ]
  },
  {
   "cell_type": "code",
   "execution_count": null,
   "metadata": {},
   "outputs": [
    {
     "name": "stdout",
     "output_type": "stream",
     "text": [
      "Train on 130243 samples, validate on 14472 samples\n",
      "Epoch 1/100\n",
      "130243/130243 [==============================] - 266s - loss: 0.5779 - acc: 0.6879 - val_loss: 0.6805 - val_acc: 0.6622\n",
      "Epoch 2/100\n",
      "130243/130243 [==============================] - 264s - loss: 0.5488 - acc: 0.7113 - val_loss: 0.6430 - val_acc: 0.6459\n",
      "Epoch 3/100\n",
      "130243/130243 [==============================] - 264s - loss: 0.5398 - acc: 0.7199 - val_loss: 0.5591 - val_acc: 0.7053\n",
      "Epoch 4/100\n",
      "130243/130243 [==============================] - 264s - loss: 0.5347 - acc: 0.7221 - val_loss: 0.5983 - val_acc: 0.6988\n",
      "Epoch 5/100\n",
      "130048/130243 [============================>.] - ETA: 0s - loss: 0.5285 - acc: 0.7273\n",
      " Reduced learning rate to 0.005\n",
      "130243/130243 [==============================] - 264s - loss: 0.5286 - acc: 0.7272 - val_loss: 0.6356 - val_acc: 0.7018\n",
      "Epoch 6/100\n",
      "130243/130243 [==============================] - 264s - loss: 0.5185 - acc: 0.7339 - val_loss: 0.5461 - val_acc: 0.7195\n",
      "Epoch 7/100\n",
      "130243/130243 [==============================] - 264s - loss: 0.5151 - acc: 0.7369 - val_loss: 0.5417 - val_acc: 0.7266\n",
      "Epoch 8/100\n",
      "130243/130243 [==============================] - 264s - loss: 0.5118 - acc: 0.7404 - val_loss: 0.5260 - val_acc: 0.7301\n",
      "Epoch 9/100\n",
      "130243/130243 [==============================] - 264s - loss: 0.5093 - acc: 0.7411 - val_loss: 0.6085 - val_acc: 0.7078\n",
      "Epoch 10/100\n",
      "130048/130243 [============================>.] - ETA: 0s - loss: 0.5079 - acc: 0.7420\n",
      " Reduced learning rate to 0.0025\n",
      "130243/130243 [==============================] - 264s - loss: 0.5080 - acc: 0.7419 - val_loss: 0.6097 - val_acc: 0.6938\n",
      "Epoch 11/100\n",
      "130243/130243 [==============================] - 264s - loss: 0.5011 - acc: 0.7467 - val_loss: 0.5266 - val_acc: 0.7337\n",
      "Epoch 12/100\n",
      "130243/130243 [==============================] - 264s - loss: 0.4992 - acc: 0.7481 - val_loss: 0.5059 - val_acc: 0.7451\n",
      "Epoch 13/100\n",
      "130243/130243 [==============================] - 264s - loss: 0.4985 - acc: 0.7482 - val_loss: 0.6374 - val_acc: 0.6865\n",
      "Epoch 14/100\n",
      "130048/130243 [============================>.] - ETA: 0s - loss: 0.4968 - acc: 0.7494\n",
      " Reduced learning rate to 0.00125\n",
      "130243/130243 [==============================] - 264s - loss: 0.4967 - acc: 0.7494 - val_loss: 0.5186 - val_acc: 0.7372\n",
      "Epoch 15/100\n",
      "130243/130243 [==============================] - 264s - loss: 0.4929 - acc: 0.7530 - val_loss: 0.5831 - val_acc: 0.6971\n",
      "Epoch 16/100\n",
      "130243/130243 [==============================] - 264s - loss: 0.4929 - acc: 0.7523 - val_loss: 0.5027 - val_acc: 0.7478\n",
      "Epoch 17/100\n",
      "130243/130243 [==============================] - 264s - loss: 0.4914 - acc: 0.7544 - val_loss: 0.5056 - val_acc: 0.7441\n",
      "Epoch 18/100\n",
      "130048/130243 [============================>.] - ETA: 0s - loss: 0.4904 - acc: 0.7539\n",
      " Reduced learning rate to 0.000625\n",
      "130243/130243 [==============================] - 265s - loss: 0.4905 - acc: 0.7538 - val_loss: 0.5225 - val_acc: 0.7266\n",
      "Epoch 19/100\n",
      "130243/130243 [==============================] - 265s - loss: 0.4884 - acc: 0.7563 - val_loss: 0.5104 - val_acc: 0.7409\n",
      "Epoch 20/100\n",
      "130048/130243 [============================>.] - ETA: 0s - loss: 0.4868 - acc: 0.7571\n",
      " Reduced learning rate to 0.0003125\n",
      "130243/130243 [==============================] - 265s - loss: 0.4868 - acc: 0.7571 - val_loss: 0.5042 - val_acc: 0.7434\n",
      "Epoch 21/100\n",
      " 40704/130243 [========>.....................] - ETA: 170s - loss: 0.4849 - acc: 0.7590"
     ]
    }
   ],
   "source": [
    "model.fit(x, y.reshape(-1, 1))"
   ]
  },
  {
   "cell_type": "code",
   "execution_count": null,
   "metadata": {
    "collapsed": true
   },
   "outputs": [],
   "source": [
    "model.save(\"../models/cloud_detection_cnn\")"
   ]
  },
  {
   "cell_type": "markdown",
   "metadata": {},
   "source": [
    "# Subsampling 5\n",
    "## Load the training data"
   ]
  },
  {
   "cell_type": "code",
   "execution_count": null,
   "metadata": {
    "collapsed": true
   },
   "outputs": [],
   "source": [
    "training_data = Dataset(\"../data/training_data_ss_5_20.nc\")\n",
    "x = training_data.variables[\"input\"][:]\n",
    "y = training_data.variables[\"cloud_class\"][:]"
   ]
  },
  {
   "cell_type": "code",
   "execution_count": null,
   "metadata": {
    "collapsed": true
   },
   "outputs": [],
   "source": [
    "inds = np.where(np.all(np.logical_not(np.isnan(x)), axis = (1, 2, 3)))[0]\n",
    "x = x[inds, :, :, :]\n",
    "y = y[inds]\n",
    "y = np.minimum(y, 1.0)"
   ]
  },
  {
   "cell_type": "code",
   "execution_count": null,
   "metadata": {
    "collapsed": true
   },
   "outputs": [],
   "source": [
    "from cloud_colocations.cloud_net import CloudNetSimple\n",
    "model_ss_5 = CloudNetSimple(10, \"detection\", 2, layers = 4, dense_layers = 2)"
   ]
  },
  {
   "cell_type": "code",
   "execution_count": null,
   "metadata": {
    "collapsed": true
   },
   "outputs": [],
   "source": [
    "model_ss_5.fit(x, y.reshape(-1, 1))"
   ]
  },
  {
   "cell_type": "code",
   "execution_count": null,
   "metadata": {
    "collapsed": true
   },
   "outputs": [],
   "source": [
    "model_ss_5.save(\"../models/cloud_detection_cnn_ss_5\")"
   ]
  },
  {
   "cell_type": "markdown",
   "metadata": {},
   "source": [
    "# Subsampling 11\n",
    "## Load the training data"
   ]
  },
  {
   "cell_type": "code",
   "execution_count": null,
   "metadata": {
    "collapsed": true
   },
   "outputs": [],
   "source": [
    "training_data = Dataset(\"../data/training_data_ss_11_20.nc\")\n",
    "x = training_data.variables[\"input\"][:]\n",
    "y = training_data.variables[\"cloud_class\"][:]"
   ]
  },
  {
   "cell_type": "code",
   "execution_count": null,
   "metadata": {
    "collapsed": true
   },
   "outputs": [],
   "source": [
    "inds = np.where(np.all(np.logical_not(np.isnan(x)), axis = (1, 2, 3)))[0]\n",
    "x = x[inds, :, :, :]\n",
    "y = y[inds]\n",
    "y = np.minimum(y, 1.0)"
   ]
  },
  {
   "cell_type": "markdown",
   "metadata": {},
   "source": [
    "## Create a model"
   ]
  },
  {
   "cell_type": "code",
   "execution_count": null,
   "metadata": {},
   "outputs": [],
   "source": [
    "from cloud_colocations.cloud_net import CloudNetSimple\n",
    "model_ss_11 = CloudNetSimple(10, \"detection\", 2, layers = 4, dense_layers = 2)"
   ]
  },
  {
   "cell_type": "code",
   "execution_count": null,
   "metadata": {},
   "outputs": [],
   "source": [
    "model_ss_11.fit(x, y.reshape(-1, 1))"
   ]
  },
  {
   "cell_type": "code",
   "execution_count": null,
   "metadata": {
    "collapsed": true
   },
   "outputs": [],
   "source": [
    "model_ss_11.save(\"../models/cloud_detection_cnn_ss_11\")"
   ]
  }
 ],
 "metadata": {
  "kernelspec": {
   "display_name": "Python 3",
   "language": "python",
   "name": "python3"
  },
  "language_info": {
   "codemirror_mode": {
    "name": "ipython",
    "version": 3
   },
   "file_extension": ".py",
   "mimetype": "text/x-python",
   "name": "python",
   "nbconvert_exporter": "python",
   "pygments_lexer": "ipython3",
   "version": "3.6.1"
  }
 },
 "nbformat": 4,
 "nbformat_minor": 2
}
